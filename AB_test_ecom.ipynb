{
 "cells": [
  {
   "cell_type": "markdown",
   "metadata": {},
   "source": [
    "# Описание проекта\n",
    "\n",
    "Я — аналитик крупного интернет-магазина. Вместе с отделом маркетинга мы подготовили список гипотез для увеличения выручки.<br>\n",
    "*Поставлены задачи:*<br>\n",
    "- Приоритизировать гипотезы<br>\n",
    "- Запустить A/B-тест<br>\n",
    "- Проанализировать результаты. \n",
    "<br><br>\n",
    "\n",
    "\n",
    "***Описание данных***<br>\n",
    "\n",
    "**Данные для первой части:<br>\n",
    "Датафрейм hypothesis:**\n",
    "\n",
    "- Hypothesis — краткое описание гипотезы;\n",
    "- Reach — охват пользователей по 10-балльной шкале;\n",
    "- Impact — влияние на пользователей по 10-балльной шкале;\n",
    "- Confidence — уверенность в гипотезе по 10-балльной шкале;\n",
    "- Efforts — затраты ресурсов на проверку гипотезы по 10-балльной шкале. Чем больше значение Efforts, тем дороже проверка гипотезы.\n",
    "<br><br>\n",
    "\n",
    "\n",
    "**Данные для второй части:<br>\n",
    "Датафрейм orders:**\n",
    "- transactionId — идентификатор заказа;<br>\n",
    "- visitorId — идентификатор пользователя, совершившего заказ;<br>\n",
    "- date — дата, когда был совершён заказ;<br>\n",
    "- revenue — выручка заказа;<br>\n",
    "- group — группа A/B-теста, в которую попал заказ.<br>\n",
    "\n",
    "**Датафрейм visitors:**\n",
    "- date — дата;<br>\n",
    "- group — группа A/B-теста;<br>\n",
    "- visitors — количество пользователей в указанную дату в указанной группе A/B-теста<br>"
   ]
  },
  {
   "cell_type": "markdown",
   "metadata": {},
   "source": [
    "### Загрузим блиблиотеки и посмотрим на данные"
   ]
  },
  {
   "cell_type": "code",
   "execution_count": 1,
   "metadata": {},
   "outputs": [],
   "source": [
    "import pandas as pd\n",
    "import seaborn as sns\n",
    "import matplotlib.pyplot as plt\n",
    "import numpy as np\n",
    "import scipy\n",
    "import datetime as dt\n",
    "from scipy import stats as st\n",
    "from datetime import datetime, timedelta\n",
    "import warnings\n",
    "warnings.simplefilter('ignore')\n",
    "pd.options.display.max_colwidth = 1"
   ]
  },
  {
   "cell_type": "code",
   "execution_count": 2,
   "metadata": {},
   "outputs": [],
   "source": [
    "try:    \n",
    "    hypothesis = pd.read_csv('/datasets/hypothesis.csv', sep=',')\n",
    "except:\n",
    "    hypothesis = pd.read_csv('https://code.s3.yandex.net/datasets/hypothesis.csv', sep=',')\n",
    "try:\n",
    "    orders = pd.read_csv('/datasets/orders.csv', sep=',')\n",
    "except:\n",
    "    orders = pd.read_csv('https://code.s3.yandex.net/datasets/orders.csv', sep=',')\n",
    "try:    \n",
    "    visitors = pd.read_csv('/datasets/visitors.csv', sep=',')\n",
    "except:\n",
    "    visitors = pd.read_csv('https://code.s3.yandex.net/datasets/visitors.csv', sep=',')"
   ]
  },
  {
   "cell_type": "code",
   "execution_count": 3,
   "metadata": {},
   "outputs": [],
   "source": [
    "#Напишем простую функцию для просмотра информации в данных\n",
    "def information(data):\n",
    "    display(data.head(5))\n",
    "    display(data.info())\n",
    "    print('Количество дубликатов:',data.duplicated().sum())\n",
    "    print(\"Количество Пропусков в столбцах:\\n\", data.isna().sum())"
   ]
  },
  {
   "cell_type": "code",
   "execution_count": 4,
   "metadata": {},
   "outputs": [
    {
     "data": {
      "text/html": [
       "<div>\n",
       "<style scoped>\n",
       "    .dataframe tbody tr th:only-of-type {\n",
       "        vertical-align: middle;\n",
       "    }\n",
       "\n",
       "    .dataframe tbody tr th {\n",
       "        vertical-align: top;\n",
       "    }\n",
       "\n",
       "    .dataframe thead th {\n",
       "        text-align: right;\n",
       "    }\n",
       "</style>\n",
       "<table border=\"1\" class=\"dataframe\">\n",
       "  <thead>\n",
       "    <tr style=\"text-align: right;\">\n",
       "      <th></th>\n",
       "      <th>Hypothesis</th>\n",
       "      <th>Reach</th>\n",
       "      <th>Impact</th>\n",
       "      <th>Confidence</th>\n",
       "      <th>Efforts</th>\n",
       "    </tr>\n",
       "  </thead>\n",
       "  <tbody>\n",
       "    <tr>\n",
       "      <th>0</th>\n",
       "      <td>Добавить два новых канала привлечения трафика, что позволит привлекать на 30% больше пользователей</td>\n",
       "      <td>3</td>\n",
       "      <td>10</td>\n",
       "      <td>8</td>\n",
       "      <td>6</td>\n",
       "    </tr>\n",
       "    <tr>\n",
       "      <th>1</th>\n",
       "      <td>Запустить собственную службу доставки, что сократит срок доставки заказов</td>\n",
       "      <td>2</td>\n",
       "      <td>5</td>\n",
       "      <td>4</td>\n",
       "      <td>10</td>\n",
       "    </tr>\n",
       "    <tr>\n",
       "      <th>2</th>\n",
       "      <td>Добавить блоки рекомендаций товаров на сайт интернет магазина, чтобы повысить конверсию и средний чек заказа</td>\n",
       "      <td>8</td>\n",
       "      <td>3</td>\n",
       "      <td>7</td>\n",
       "      <td>3</td>\n",
       "    </tr>\n",
       "    <tr>\n",
       "      <th>3</th>\n",
       "      <td>Изменить структура категорий, что увеличит конверсию, т.к. пользователи быстрее найдут нужный товар</td>\n",
       "      <td>8</td>\n",
       "      <td>3</td>\n",
       "      <td>3</td>\n",
       "      <td>8</td>\n",
       "    </tr>\n",
       "    <tr>\n",
       "      <th>4</th>\n",
       "      <td>Изменить цвет фона главной страницы, чтобы увеличить вовлеченность пользователей</td>\n",
       "      <td>3</td>\n",
       "      <td>1</td>\n",
       "      <td>1</td>\n",
       "      <td>1</td>\n",
       "    </tr>\n",
       "  </tbody>\n",
       "</table>\n",
       "</div>"
      ],
      "text/plain": [
       "                                                                                                     Hypothesis  \\\n",
       "0  Добавить два новых канала привлечения трафика, что позволит привлекать на 30% больше пользователей             \n",
       "1  Запустить собственную службу доставки, что сократит срок доставки заказов                                      \n",
       "2  Добавить блоки рекомендаций товаров на сайт интернет магазина, чтобы повысить конверсию и средний чек заказа   \n",
       "3  Изменить структура категорий, что увеличит конверсию, т.к. пользователи быстрее найдут нужный товар            \n",
       "4  Изменить цвет фона главной страницы, чтобы увеличить вовлеченность пользователей                               \n",
       "\n",
       "   Reach  Impact  Confidence  Efforts  \n",
       "0  3      10      8           6        \n",
       "1  2      5       4           10       \n",
       "2  8      3       7           3        \n",
       "3  8      3       3           8        \n",
       "4  3      1       1           1        "
      ]
     },
     "metadata": {},
     "output_type": "display_data"
    },
    {
     "name": "stdout",
     "output_type": "stream",
     "text": [
      "<class 'pandas.core.frame.DataFrame'>\n",
      "RangeIndex: 9 entries, 0 to 8\n",
      "Data columns (total 5 columns):\n",
      " #   Column      Non-Null Count  Dtype \n",
      "---  ------      --------------  ----- \n",
      " 0   Hypothesis  9 non-null      object\n",
      " 1   Reach       9 non-null      int64 \n",
      " 2   Impact      9 non-null      int64 \n",
      " 3   Confidence  9 non-null      int64 \n",
      " 4   Efforts     9 non-null      int64 \n",
      "dtypes: int64(4), object(1)\n",
      "memory usage: 488.0+ bytes\n"
     ]
    },
    {
     "data": {
      "text/plain": [
       "None"
      ]
     },
     "metadata": {},
     "output_type": "display_data"
    },
    {
     "name": "stdout",
     "output_type": "stream",
     "text": [
      "Количество дубликатов: 0\n",
      "Количество Пропусков в столбцах:\n",
      " Hypothesis    0\n",
      "Reach         0\n",
      "Impact        0\n",
      "Confidence    0\n",
      "Efforts       0\n",
      "dtype: int64\n"
     ]
    }
   ],
   "source": [
    "information(hypothesis)"
   ]
  },
  {
   "cell_type": "code",
   "execution_count": 5,
   "metadata": {},
   "outputs": [
    {
     "data": {
      "text/html": [
       "<div>\n",
       "<style scoped>\n",
       "    .dataframe tbody tr th:only-of-type {\n",
       "        vertical-align: middle;\n",
       "    }\n",
       "\n",
       "    .dataframe tbody tr th {\n",
       "        vertical-align: top;\n",
       "    }\n",
       "\n",
       "    .dataframe thead th {\n",
       "        text-align: right;\n",
       "    }\n",
       "</style>\n",
       "<table border=\"1\" class=\"dataframe\">\n",
       "  <thead>\n",
       "    <tr style=\"text-align: right;\">\n",
       "      <th></th>\n",
       "      <th>transactionId</th>\n",
       "      <th>visitorId</th>\n",
       "      <th>date</th>\n",
       "      <th>revenue</th>\n",
       "      <th>group</th>\n",
       "    </tr>\n",
       "  </thead>\n",
       "  <tbody>\n",
       "    <tr>\n",
       "      <th>0</th>\n",
       "      <td>3667963787</td>\n",
       "      <td>3312258926</td>\n",
       "      <td>2019-08-15</td>\n",
       "      <td>1650</td>\n",
       "      <td>B</td>\n",
       "    </tr>\n",
       "    <tr>\n",
       "      <th>1</th>\n",
       "      <td>2804400009</td>\n",
       "      <td>3642806036</td>\n",
       "      <td>2019-08-15</td>\n",
       "      <td>730</td>\n",
       "      <td>B</td>\n",
       "    </tr>\n",
       "    <tr>\n",
       "      <th>2</th>\n",
       "      <td>2961555356</td>\n",
       "      <td>4069496402</td>\n",
       "      <td>2019-08-15</td>\n",
       "      <td>400</td>\n",
       "      <td>A</td>\n",
       "    </tr>\n",
       "    <tr>\n",
       "      <th>3</th>\n",
       "      <td>3797467345</td>\n",
       "      <td>1196621759</td>\n",
       "      <td>2019-08-15</td>\n",
       "      <td>9759</td>\n",
       "      <td>B</td>\n",
       "    </tr>\n",
       "    <tr>\n",
       "      <th>4</th>\n",
       "      <td>2282983706</td>\n",
       "      <td>2322279887</td>\n",
       "      <td>2019-08-15</td>\n",
       "      <td>2308</td>\n",
       "      <td>B</td>\n",
       "    </tr>\n",
       "  </tbody>\n",
       "</table>\n",
       "</div>"
      ],
      "text/plain": [
       "   transactionId   visitorId        date  revenue group\n",
       "0  3667963787     3312258926  2019-08-15  1650     B   \n",
       "1  2804400009     3642806036  2019-08-15  730      B   \n",
       "2  2961555356     4069496402  2019-08-15  400      A   \n",
       "3  3797467345     1196621759  2019-08-15  9759     B   \n",
       "4  2282983706     2322279887  2019-08-15  2308     B   "
      ]
     },
     "metadata": {},
     "output_type": "display_data"
    },
    {
     "name": "stdout",
     "output_type": "stream",
     "text": [
      "<class 'pandas.core.frame.DataFrame'>\n",
      "RangeIndex: 1197 entries, 0 to 1196\n",
      "Data columns (total 5 columns):\n",
      " #   Column         Non-Null Count  Dtype \n",
      "---  ------         --------------  ----- \n",
      " 0   transactionId  1197 non-null   int64 \n",
      " 1   visitorId      1197 non-null   int64 \n",
      " 2   date           1197 non-null   object\n",
      " 3   revenue        1197 non-null   int64 \n",
      " 4   group          1197 non-null   object\n",
      "dtypes: int64(3), object(2)\n",
      "memory usage: 46.9+ KB\n"
     ]
    },
    {
     "data": {
      "text/plain": [
       "None"
      ]
     },
     "metadata": {},
     "output_type": "display_data"
    },
    {
     "name": "stdout",
     "output_type": "stream",
     "text": [
      "Количество дубликатов: 0\n",
      "Количество Пропусков в столбцах:\n",
      " transactionId    0\n",
      "visitorId        0\n",
      "date             0\n",
      "revenue          0\n",
      "group            0\n",
      "dtype: int64\n"
     ]
    }
   ],
   "source": [
    "information(orders)"
   ]
  },
  {
   "cell_type": "code",
   "execution_count": 6,
   "metadata": {},
   "outputs": [
    {
     "data": {
      "text/html": [
       "<div>\n",
       "<style scoped>\n",
       "    .dataframe tbody tr th:only-of-type {\n",
       "        vertical-align: middle;\n",
       "    }\n",
       "\n",
       "    .dataframe tbody tr th {\n",
       "        vertical-align: top;\n",
       "    }\n",
       "\n",
       "    .dataframe thead th {\n",
       "        text-align: right;\n",
       "    }\n",
       "</style>\n",
       "<table border=\"1\" class=\"dataframe\">\n",
       "  <thead>\n",
       "    <tr style=\"text-align: right;\">\n",
       "      <th></th>\n",
       "      <th>date</th>\n",
       "      <th>group</th>\n",
       "      <th>visitors</th>\n",
       "    </tr>\n",
       "  </thead>\n",
       "  <tbody>\n",
       "    <tr>\n",
       "      <th>0</th>\n",
       "      <td>2019-08-01</td>\n",
       "      <td>A</td>\n",
       "      <td>719</td>\n",
       "    </tr>\n",
       "    <tr>\n",
       "      <th>1</th>\n",
       "      <td>2019-08-02</td>\n",
       "      <td>A</td>\n",
       "      <td>619</td>\n",
       "    </tr>\n",
       "    <tr>\n",
       "      <th>2</th>\n",
       "      <td>2019-08-03</td>\n",
       "      <td>A</td>\n",
       "      <td>507</td>\n",
       "    </tr>\n",
       "    <tr>\n",
       "      <th>3</th>\n",
       "      <td>2019-08-04</td>\n",
       "      <td>A</td>\n",
       "      <td>717</td>\n",
       "    </tr>\n",
       "    <tr>\n",
       "      <th>4</th>\n",
       "      <td>2019-08-05</td>\n",
       "      <td>A</td>\n",
       "      <td>756</td>\n",
       "    </tr>\n",
       "  </tbody>\n",
       "</table>\n",
       "</div>"
      ],
      "text/plain": [
       "         date group  visitors\n",
       "0  2019-08-01  A     719     \n",
       "1  2019-08-02  A     619     \n",
       "2  2019-08-03  A     507     \n",
       "3  2019-08-04  A     717     \n",
       "4  2019-08-05  A     756     "
      ]
     },
     "metadata": {},
     "output_type": "display_data"
    },
    {
     "name": "stdout",
     "output_type": "stream",
     "text": [
      "<class 'pandas.core.frame.DataFrame'>\n",
      "RangeIndex: 62 entries, 0 to 61\n",
      "Data columns (total 3 columns):\n",
      " #   Column    Non-Null Count  Dtype \n",
      "---  ------    --------------  ----- \n",
      " 0   date      62 non-null     object\n",
      " 1   group     62 non-null     object\n",
      " 2   visitors  62 non-null     int64 \n",
      "dtypes: int64(1), object(2)\n",
      "memory usage: 1.6+ KB\n"
     ]
    },
    {
     "data": {
      "text/plain": [
       "None"
      ]
     },
     "metadata": {},
     "output_type": "display_data"
    },
    {
     "name": "stdout",
     "output_type": "stream",
     "text": [
      "Количество дубликатов: 0\n",
      "Количество Пропусков в столбцах:\n",
      " date        0\n",
      "group       0\n",
      "visitors    0\n",
      "dtype: int64\n"
     ]
    }
   ],
   "source": [
    "information(visitors)"
   ]
  },
  {
   "cell_type": "markdown",
   "metadata": {},
   "source": [
    "**Пропусков и дубликатов не обнаружено, необходимо подправить дату и привести названия столбцов к нижнему регистру. Замечены столбцы без разделения (transactionId, visitorId), тоже переименуем**"
   ]
  },
  {
   "cell_type": "code",
   "execution_count": 7,
   "metadata": {},
   "outputs": [],
   "source": [
    "orders['date'] = pd.to_datetime(orders['date'])\n",
    "visitors['date'] = pd.to_datetime(visitors['date'])"
   ]
  },
  {
   "cell_type": "code",
   "execution_count": 8,
   "metadata": {},
   "outputs": [],
   "source": [
    "#Чтобы вручную через rename не переименовывать каждый столбец, напишем функцию\n",
    "for i in [visitors, orders, hypothesis]:\n",
    "    i.columns = [x.lower().replace(' ', '_') for x in i.columns.values]\n",
    "orders = orders.rename(columns={'transactionid': 'transaction_id', 'visitorid': 'visitor_id'}) "
   ]
  },
  {
   "cell_type": "code",
   "execution_count": 9,
   "metadata": {},
   "outputs": [],
   "source": [
    "#Проверка\n",
    "#display(hypothesis)\n",
    "#display(orders)\n",
    "#display(visitors)"
   ]
  },
  {
   "cell_type": "markdown",
   "metadata": {},
   "source": [
    "**Промежуточный итог:**<br>\n",
    "Пропусков и дубликатов не обнаружено, исправлен параметр даты, названия столбцов приведены корректному регистру. "
   ]
  },
  {
   "cell_type": "markdown",
   "metadata": {},
   "source": [
    "### Часть первая. Приоритизация гипотез.\n",
    "**Задачи**<br>\n",
    "- Применить фреймворк ICE для приоритизации гипотез. Отсортировать их по убыванию приоритета.\n",
    "- Применить фреймворк RICE для приоритизации гипотез. Отсортировать их по убыванию приоритета.\n",
    "- Указать, как изменилась приоритизация гипотез при применении RICE вместо ICE. Объяснить, почему так произошло."
   ]
  },
  {
   "cell_type": "code",
   "execution_count": 10,
   "metadata": {},
   "outputs": [
    {
     "data": {
      "text/html": [
       "<div>\n",
       "<style scoped>\n",
       "    .dataframe tbody tr th:only-of-type {\n",
       "        vertical-align: middle;\n",
       "    }\n",
       "\n",
       "    .dataframe tbody tr th {\n",
       "        vertical-align: top;\n",
       "    }\n",
       "\n",
       "    .dataframe thead th {\n",
       "        text-align: right;\n",
       "    }\n",
       "</style>\n",
       "<table border=\"1\" class=\"dataframe\">\n",
       "  <thead>\n",
       "    <tr style=\"text-align: right;\">\n",
       "      <th></th>\n",
       "      <th>hypothesis</th>\n",
       "      <th>ice</th>\n",
       "    </tr>\n",
       "  </thead>\n",
       "  <tbody>\n",
       "    <tr>\n",
       "      <th>8</th>\n",
       "      <td>Запустить акцию, дающую скидку на товар в день рождения</td>\n",
       "      <td>16.20</td>\n",
       "    </tr>\n",
       "    <tr>\n",
       "      <th>0</th>\n",
       "      <td>Добавить два новых канала привлечения трафика, что позволит привлекать на 30% больше пользователей</td>\n",
       "      <td>13.33</td>\n",
       "    </tr>\n",
       "    <tr>\n",
       "      <th>7</th>\n",
       "      <td>Добавить форму подписки на все основные страницы, чтобы собрать базу клиентов для email-рассылок</td>\n",
       "      <td>11.20</td>\n",
       "    </tr>\n",
       "    <tr>\n",
       "      <th>6</th>\n",
       "      <td>Показать на главной странице баннеры с актуальными акциями и распродажами, чтобы увеличить конверсию</td>\n",
       "      <td>8.00</td>\n",
       "    </tr>\n",
       "    <tr>\n",
       "      <th>2</th>\n",
       "      <td>Добавить блоки рекомендаций товаров на сайт интернет магазина, чтобы повысить конверсию и средний чек заказа</td>\n",
       "      <td>7.00</td>\n",
       "    </tr>\n",
       "    <tr>\n",
       "      <th>1</th>\n",
       "      <td>Запустить собственную службу доставки, что сократит срок доставки заказов</td>\n",
       "      <td>2.00</td>\n",
       "    </tr>\n",
       "    <tr>\n",
       "      <th>5</th>\n",
       "      <td>Добавить страницу отзывов клиентов о магазине, что позволит увеличить количество заказов</td>\n",
       "      <td>1.33</td>\n",
       "    </tr>\n",
       "    <tr>\n",
       "      <th>3</th>\n",
       "      <td>Изменить структура категорий, что увеличит конверсию, т.к. пользователи быстрее найдут нужный товар</td>\n",
       "      <td>1.12</td>\n",
       "    </tr>\n",
       "    <tr>\n",
       "      <th>4</th>\n",
       "      <td>Изменить цвет фона главной страницы, чтобы увеличить вовлеченность пользователей</td>\n",
       "      <td>1.00</td>\n",
       "    </tr>\n",
       "  </tbody>\n",
       "</table>\n",
       "</div>"
      ],
      "text/plain": [
       "                                                                                                     hypothesis  \\\n",
       "8  Запустить акцию, дающую скидку на товар в день рождения                                                        \n",
       "0  Добавить два новых канала привлечения трафика, что позволит привлекать на 30% больше пользователей             \n",
       "7  Добавить форму подписки на все основные страницы, чтобы собрать базу клиентов для email-рассылок               \n",
       "6  Показать на главной странице баннеры с актуальными акциями и распродажами, чтобы увеличить конверсию           \n",
       "2  Добавить блоки рекомендаций товаров на сайт интернет магазина, чтобы повысить конверсию и средний чек заказа   \n",
       "1  Запустить собственную службу доставки, что сократит срок доставки заказов                                      \n",
       "5  Добавить страницу отзывов клиентов о магазине, что позволит увеличить количество заказов                       \n",
       "3  Изменить структура категорий, что увеличит конверсию, т.к. пользователи быстрее найдут нужный товар            \n",
       "4  Изменить цвет фона главной страницы, чтобы увеличить вовлеченность пользователей                               \n",
       "\n",
       "     ice  \n",
       "8  16.20  \n",
       "0  13.33  \n",
       "7  11.20  \n",
       "6  8.00   \n",
       "2  7.00   \n",
       "1  2.00   \n",
       "5  1.33   \n",
       "3  1.12   \n",
       "4  1.00   "
      ]
     },
     "metadata": {},
     "output_type": "display_data"
    }
   ],
   "source": [
    "# создадим столбец ice и отсортируем по убыванию приоритета\n",
    "# новый параметр округлим до 2 знаков после запятой\n",
    "hypothesis['ice'] = round((hypothesis['impact'] * hypothesis['confidence'])/hypothesis['efforts'], 2)\n",
    "display(hypothesis[['hypothesis', 'ice']].sort_values(by='ice', ascending=False))"
   ]
  },
  {
   "cell_type": "markdown",
   "metadata": {},
   "source": [
    "**Вывод наиболее приоритетные гипотезы по ICE:**\n",
    "\n",
    "- Запустить акцию, дающую скидку на товар в день рождения;\n",
    "- Добавить два новых канала привлечения трафика, что позволит привлекать на 30% больше пользователей;\n",
    "- Добавить форму подписки на все основные страницы, чтобы собрать базу клиентов для email-рассылок"
   ]
  },
  {
   "cell_type": "code",
   "execution_count": 11,
   "metadata": {},
   "outputs": [
    {
     "data": {
      "text/html": [
       "<div>\n",
       "<style scoped>\n",
       "    .dataframe tbody tr th:only-of-type {\n",
       "        vertical-align: middle;\n",
       "    }\n",
       "\n",
       "    .dataframe tbody tr th {\n",
       "        vertical-align: top;\n",
       "    }\n",
       "\n",
       "    .dataframe thead th {\n",
       "        text-align: right;\n",
       "    }\n",
       "</style>\n",
       "<table border=\"1\" class=\"dataframe\">\n",
       "  <thead>\n",
       "    <tr style=\"text-align: right;\">\n",
       "      <th></th>\n",
       "      <th>hypothesis</th>\n",
       "      <th>rice</th>\n",
       "    </tr>\n",
       "  </thead>\n",
       "  <tbody>\n",
       "    <tr>\n",
       "      <th>7</th>\n",
       "      <td>Добавить форму подписки на все основные страницы, чтобы собрать базу клиентов для email-рассылок</td>\n",
       "      <td>112.0</td>\n",
       "    </tr>\n",
       "    <tr>\n",
       "      <th>2</th>\n",
       "      <td>Добавить блоки рекомендаций товаров на сайт интернет магазина, чтобы повысить конверсию и средний чек заказа</td>\n",
       "      <td>56.0</td>\n",
       "    </tr>\n",
       "    <tr>\n",
       "      <th>0</th>\n",
       "      <td>Добавить два новых канала привлечения трафика, что позволит привлекать на 30% больше пользователей</td>\n",
       "      <td>40.0</td>\n",
       "    </tr>\n",
       "    <tr>\n",
       "      <th>6</th>\n",
       "      <td>Показать на главной странице баннеры с актуальными акциями и распродажами, чтобы увеличить конверсию</td>\n",
       "      <td>40.0</td>\n",
       "    </tr>\n",
       "    <tr>\n",
       "      <th>8</th>\n",
       "      <td>Запустить акцию, дающую скидку на товар в день рождения</td>\n",
       "      <td>16.2</td>\n",
       "    </tr>\n",
       "    <tr>\n",
       "      <th>3</th>\n",
       "      <td>Изменить структура категорий, что увеличит конверсию, т.к. пользователи быстрее найдут нужный товар</td>\n",
       "      <td>9.0</td>\n",
       "    </tr>\n",
       "    <tr>\n",
       "      <th>1</th>\n",
       "      <td>Запустить собственную службу доставки, что сократит срок доставки заказов</td>\n",
       "      <td>4.0</td>\n",
       "    </tr>\n",
       "    <tr>\n",
       "      <th>5</th>\n",
       "      <td>Добавить страницу отзывов клиентов о магазине, что позволит увеличить количество заказов</td>\n",
       "      <td>4.0</td>\n",
       "    </tr>\n",
       "    <tr>\n",
       "      <th>4</th>\n",
       "      <td>Изменить цвет фона главной страницы, чтобы увеличить вовлеченность пользователей</td>\n",
       "      <td>3.0</td>\n",
       "    </tr>\n",
       "  </tbody>\n",
       "</table>\n",
       "</div>"
      ],
      "text/plain": [
       "                                                                                                     hypothesis  \\\n",
       "7  Добавить форму подписки на все основные страницы, чтобы собрать базу клиентов для email-рассылок               \n",
       "2  Добавить блоки рекомендаций товаров на сайт интернет магазина, чтобы повысить конверсию и средний чек заказа   \n",
       "0  Добавить два новых канала привлечения трафика, что позволит привлекать на 30% больше пользователей             \n",
       "6  Показать на главной странице баннеры с актуальными акциями и распродажами, чтобы увеличить конверсию           \n",
       "8  Запустить акцию, дающую скидку на товар в день рождения                                                        \n",
       "3  Изменить структура категорий, что увеличит конверсию, т.к. пользователи быстрее найдут нужный товар            \n",
       "1  Запустить собственную службу доставки, что сократит срок доставки заказов                                      \n",
       "5  Добавить страницу отзывов клиентов о магазине, что позволит увеличить количество заказов                       \n",
       "4  Изменить цвет фона главной страницы, чтобы увеличить вовлеченность пользователей                               \n",
       "\n",
       "    rice  \n",
       "7  112.0  \n",
       "2  56.0   \n",
       "0  40.0   \n",
       "6  40.0   \n",
       "8  16.2   \n",
       "3  9.0    \n",
       "1  4.0    \n",
       "5  4.0    \n",
       "4  3.0    "
      ]
     },
     "metadata": {},
     "output_type": "display_data"
    }
   ],
   "source": [
    "#создаем столбец rice \n",
    "# новый параметр округлим до 2 знаков после запятой\n",
    "hypothesis['rice'] = round((hypothesis['reach'] * hypothesis['impact'] * hypothesis['confidence'])/hypothesis['efforts'], 2)\n",
    "display(hypothesis[['hypothesis', 'rice']].sort_values(by='rice', ascending=False))"
   ]
  },
  {
   "cell_type": "markdown",
   "metadata": {},
   "source": [
    "**Вывод наиболее приоритетные гипотезы по ICE:**\n",
    "\n",
    "- Добавить форму подписки на все основные страницы, чтобы собрать базу клиентов для email-рассылок;\n",
    "- Добавить блоки рекомендаций товаров на сайт интернет магазина, чтобы повысить конверсию и средний чек заказа;\n",
    "- Добавить два новых канала привлечения трафика, что позволит привлекать на 30% больше пользователей"
   ]
  },
  {
   "cell_type": "markdown",
   "metadata": {},
   "source": [
    "**Вывод  первой части:**\n",
    "В обоих случаях (ICE и RICE) гипотеза №0 и №7 (\"Добавить два новых канала привлечения трафика\" и \"Добавить форму подписки на все основные страницы, чтобы собрать базу клиентов для email-рассылок\") входят в тройку, что показывает перспективу дальнейшего развития гипотез.<br>\n",
    "Наболее перспективная гипотеза по ICE под номером 8(Запустить акцию на скидку к дню рождения) опустилось на пятое место при расчете RICE. Это объясняется показателем reach - количество пользователей, которое затронет изменение, равно 10 в случае с гипотезой №7 и минимальное значение (1) у гипотезы №8"
   ]
  },
  {
   "cell_type": "markdown",
   "metadata": {},
   "source": [
    "### Часть вторая. Анализ A/B-теста\n",
    "**Задачи:**\n",
    "- Постройте график кумулятивной выручки по группам. Сделайте выводы и предположения.\n",
    "- Постройте график кумулятивного среднего чека по группам. Сделайте выводы и предположения.\n",
    "- Постройте график относительного изменения кумулятивного среднего чека группы B к группе A. Сделайте выводы и предположения.\n",
    "- Постройте график кумулятивного среднего количества заказов на посетителя по группам. Сделайте выводы и предположения.\n",
    "- Постройте график относительного изменения кумулятивного среднего количества заказов на посетителя группы B к группе A. Сделайте выводы и предположения.\n",
    "- Постройте точечный график количества заказов по пользователям. Сделайте выводы и предположения.\n",
    "- Посчитайте 95-й и 99-й перцентили количества заказов на пользователя. Выберите границу для определения аномальных пользователей.\n",
    "- Постройте точечный график стоимостей заказов. Сделайте выводы и предположения.\n",
    "- Посчитайте 95-й и 99-й перцентили стоимости заказов. Выберите границу для определения аномальных заказов.\n",
    "- Посчитайте статистическую значимость различий в среднем количестве заказов на посетителя между группами по «сырым» данным. Сделайте выводы и предположения.\n",
    "- Посчитайте статистическую значимость различий в среднем чеке заказа между группами по «сырым» данным. Сделайте выводы и предположения.\n",
    "- Посчитайте статистическую значимость различий в среднем количестве заказов на посетителя между группами по «очищенным» данным. Сделайте выводы и предположения.\n",
    "- Посчитайте статистическую значимость различий в среднем чеке заказа между группами по «очищенным» данным. Сделайте выводы и предположения.\n",
    "- Примите решение по результатам теста и объясните его. Варианты решений:\n",
    "1. Остановить тест, зафиксировать победу одной из групп.\n",
    "2. Остановить тест, зафиксировать отсутствие различий между группами.\n",
    "3. Продолжить тест."
   ]
  },
  {
   "cell_type": "markdown",
   "metadata": {},
   "source": [
    "#### Проверим что пользователи не попали в обе группы"
   ]
  },
  {
   "cell_type": "code",
   "execution_count": 12,
   "metadata": {
    "scrolled": true
   },
   "outputs": [
    {
     "name": "stdout",
     "output_type": "stream",
     "text": [
      "Пользователей, попавших в обе группы: 58\n",
      "Сумма заказов этих пользователей 1558935\n",
      "Количество заказов 181\n"
     ]
    }
   ],
   "source": [
    "doubles = (orders.groupby(['visitor_id'])\n",
    "            .agg({'group' : 'nunique',\n",
    "                  'transaction_id' : 'count',\n",
    "                  'revenue' : 'sum'})\n",
    "            .reset_index()\n",
    "           )\n",
    "print(f'Пользователей, попавших в обе группы: {doubles[doubles.group != 1][\"visitor_id\"].count()}')\n",
    "print(f\"Сумма заказов этих пользователей {doubles[doubles.group != 1]['revenue'].sum()}\")\n",
    "print(f\"Количество заказов {doubles[doubles.group != 1]['transaction_id'].sum()}\")"
   ]
  },
  {
   "cell_type": "markdown",
   "metadata": {},
   "source": [
    "Выходит 58 пользователей находятся сразу и в группе А и в группе В, они сделали 181(из 1197) заказ на сумму 1 558 935р. Неизвестно какая из версия А или В повлияла на их решение о заказе, поэтому исключим данных пользователей(это будет уже критическая отметка в 15% потери данных от заказов, далее исключать уже ничего не будем)"
   ]
  },
  {
   "cell_type": "code",
   "execution_count": 13,
   "metadata": {},
   "outputs": [],
   "source": [
    "d_list = list(doubles[doubles.group != 1]['visitor_id'])\n",
    "orders = orders.query('visitor_id not in @d_list')"
   ]
  },
  {
   "cell_type": "markdown",
   "metadata": {},
   "source": [
    "#### Построим график кумулятивной выручки по группам"
   ]
  },
  {
   "cell_type": "code",
   "execution_count": 14,
   "metadata": {},
   "outputs": [
    {
     "data": {
      "text/html": [
       "<div>\n",
       "<style scoped>\n",
       "    .dataframe tbody tr th:only-of-type {\n",
       "        vertical-align: middle;\n",
       "    }\n",
       "\n",
       "    .dataframe tbody tr th {\n",
       "        vertical-align: top;\n",
       "    }\n",
       "\n",
       "    .dataframe thead th {\n",
       "        text-align: right;\n",
       "    }\n",
       "</style>\n",
       "<table border=\"1\" class=\"dataframe\">\n",
       "  <thead>\n",
       "    <tr style=\"text-align: right;\">\n",
       "      <th></th>\n",
       "      <th>date</th>\n",
       "      <th>group</th>\n",
       "      <th>orders</th>\n",
       "      <th>buyers</th>\n",
       "      <th>revenue</th>\n",
       "      <th>visitors</th>\n",
       "    </tr>\n",
       "  </thead>\n",
       "  <tbody>\n",
       "    <tr>\n",
       "      <th>0</th>\n",
       "      <td>2019-08-01</td>\n",
       "      <td>A</td>\n",
       "      <td>23</td>\n",
       "      <td>19</td>\n",
       "      <td>142779</td>\n",
       "      <td>719</td>\n",
       "    </tr>\n",
       "    <tr>\n",
       "      <th>1</th>\n",
       "      <td>2019-08-01</td>\n",
       "      <td>B</td>\n",
       "      <td>17</td>\n",
       "      <td>17</td>\n",
       "      <td>59758</td>\n",
       "      <td>713</td>\n",
       "    </tr>\n",
       "    <tr>\n",
       "      <th>2</th>\n",
       "      <td>2019-08-02</td>\n",
       "      <td>A</td>\n",
       "      <td>42</td>\n",
       "      <td>36</td>\n",
       "      <td>234381</td>\n",
       "      <td>1338</td>\n",
       "    </tr>\n",
       "    <tr>\n",
       "      <th>3</th>\n",
       "      <td>2019-08-02</td>\n",
       "      <td>B</td>\n",
       "      <td>40</td>\n",
       "      <td>39</td>\n",
       "      <td>221801</td>\n",
       "      <td>1294</td>\n",
       "    </tr>\n",
       "    <tr>\n",
       "      <th>4</th>\n",
       "      <td>2019-08-03</td>\n",
       "      <td>A</td>\n",
       "      <td>66</td>\n",
       "      <td>60</td>\n",
       "      <td>346854</td>\n",
       "      <td>1845</td>\n",
       "    </tr>\n",
       "  </tbody>\n",
       "</table>\n",
       "</div>"
      ],
      "text/plain": [
       "        date group  orders  buyers  revenue  visitors\n",
       "0 2019-08-01  A     23      19      142779   719     \n",
       "1 2019-08-01  B     17      17      59758    713     \n",
       "2 2019-08-02  A     42      36      234381   1338    \n",
       "3 2019-08-02  B     40      39      221801   1294    \n",
       "4 2019-08-03  A     66      60      346854   1845    "
      ]
     },
     "metadata": {},
     "output_type": "display_data"
    }
   ],
   "source": [
    "# создаем массив уникальных пар значений дат и групп теста\n",
    "datesGroups = orders[['date', 'group']].drop_duplicates()\n",
    "\n",
    "# получаем агрегированные кумулятивные по дням данные о заказах \n",
    "ordersAggregated = datesGroups.apply(\n",
    "    lambda x: orders[\n",
    "        np.logical_and(\n",
    "            orders['date'] <= x['date'], orders['group'] == x['group']\n",
    "        )\n",
    "    ].agg(\n",
    "        {\n",
    "            'date': 'max',\n",
    "            'group': 'max',\n",
    "            'transaction_id': 'nunique',\n",
    "            'visitor_id': 'nunique',\n",
    "            'revenue': 'sum',\n",
    "        }\n",
    "    ),\n",
    "    axis=1,\n",
    ").sort_values(by=['date', 'group'])\n",
    "\n",
    "# получаем агрегированные кумулятивные по дням данные о посетителях \n",
    "visitorsAggregated = datesGroups.apply(\n",
    "    lambda x: visitors[\n",
    "        np.logical_and(\n",
    "            visitors['date'] <= x['date'], visitors['group'] == x['group']\n",
    "        )\n",
    "    ].agg({'date': 'max', 'group': 'max', 'visitors': 'sum'}),\n",
    "    axis=1,\n",
    ").sort_values(by=['date', 'group'])\n",
    "\n",
    "# объединяем кумулятивные данные в одной таблице\n",
    "cumulativeData = ordersAggregated.merge(\n",
    "    visitorsAggregated, left_on=['date', 'group'], right_on=['date', 'group']\n",
    ")\n",
    "cumulativeData.columns = [\n",
    "    'date',\n",
    "    'group',\n",
    "    'orders',\n",
    "    'buyers',\n",
    "    'revenue',\n",
    "    'visitors',\n",
    "]\n",
    "\n",
    "display(cumulativeData.head())"
   ]
  },
  {
   "cell_type": "code",
   "execution_count": 15,
   "metadata": {},
   "outputs": [
    {
     "data": {
      "image/png": "[encoded data removed]",
      "text/plain": [
       "<Figure size 1080x720 with 1 Axes>"
      ]
     },
     "metadata": {
      "needs_background": "light"
     },
     "output_type": "display_data"
    }
   ],
   "source": [
    "# датафрейм с кумулятивным количеством заказов и кумулятивной выручкой по дням в группе А\n",
    "cumulative_revenue_a = cumulativeData[cumulativeData['group']=='A'][['date', 'revenue', 'orders']]\n",
    "\n",
    "# датафрейм с кумулятивным количеством заказов и кумулятивной выручкой по дням в группе B\n",
    "cumulative_revenue_b = cumulativeData[cumulativeData['group']=='B'][['date', 'revenue', 'orders']]\n",
    "\n",
    "# задаём размер для графиков\n",
    "plt.figure(figsize=(15, 10))\n",
    "\n",
    "# строим график выручки группы А\n",
    "plt.plot(cumulative_revenue_a['date'], cumulative_revenue_a['revenue'], label='A')\n",
    "\n",
    "# строим график выручки группы B\n",
    "plt.plot(cumulative_revenue_b['date'], cumulative_revenue_b['revenue'], label='B')\n",
    "\n",
    "plt.grid(visible=True)\n",
    "plt.title('Графики кумулятивной выручки по дням и группам A/B-теста', fontsize=14)\n",
    "plt.xlabel('Дата', fontsize=12)\n",
    "plt.ylabel('Выручка, ₽', fontsize=12)\n",
    "plt.legend() \n",
    "plt.show()"
   ]
  },
  {
   "cell_type": "markdown",
   "metadata": {},
   "source": [
    "**Вывод:**<br>\n",
    "Выручка практически равномерно увеличивается в обеих группах за представленный период. Можно заметить, что график выручки группы B в одной точке резко вырос и далее продолжил рост более плавно. Это может дать сигнал о скачке числа заказов, либо сильно вырос чек заказа."
   ]
  },
  {
   "cell_type": "markdown",
   "metadata": {},
   "source": [
    "#### Построим график кумулятивного среднего чека по группам"
   ]
  },
  {
   "cell_type": "code",
   "execution_count": 16,
   "metadata": {},
   "outputs": [
    {
     "data": {
      "image/png": "[encoded data removed]",
      "text/plain": [
       "<Figure size 1080x360 with 1 Axes>"
      ]
     },
     "metadata": {
      "needs_background": "light"
     },
     "output_type": "display_data"
    }
   ],
   "source": [
    "plt.figure(figsize=(15, 5))\n",
    "plt.plot(cumulative_revenue_a['date'],\n",
    "         cumulative_revenue_a['revenue']/cumulative_revenue_a['orders'],\n",
    "         label='A')\n",
    "plt.plot(cumulative_revenue_b['date'],\n",
    "         cumulative_revenue_b['revenue']/cumulative_revenue_b['orders'],\n",
    "         label='B')\n",
    "plt.grid(visible=True)\n",
    "plt.title('Графики кумулятивного среднего чека по дням и группам A/B-тестирования', fontsize=14)\n",
    "plt.xlabel('Дата', fontsize=12)\n",
    "plt.ylabel('Средний чек', fontsize=12)\n",
    "plt.legend() \n",
    "plt.show()"
   ]
  },
  {
   "cell_type": "markdown",
   "metadata": {},
   "source": [
    "**Вывод:**<br> В группе А видно падения в самом начале теста и затем резкий скачок вплоть до 13.08.2019. Далее чек находится на одном уровне с незначительными колебаниями. В группе В с первого дня заметен рост и затем резкий скачок (возможно некоторые пользователи закупили большую партию товара в этот день), далее до конца теста идет спад. Однако средний чек группы Б после скачка все равно выше чем в группе А\n",
    "Действительно рост выручки в группе Б связан с резким скачком среднего чека.\n"
   ]
  },
  {
   "cell_type": "markdown",
   "metadata": {},
   "source": [
    "#### Построим график относительного изменения среднего чека группы B к группе A"
   ]
  },
  {
   "cell_type": "code",
   "execution_count": 17,
   "metadata": {},
   "outputs": [
    {
     "data": {
      "image/png": "[encoded data removed]",
      "text/plain": [
       "<Figure size 1080x360 with 1 Axes>"
      ]
     },
     "metadata": {
      "needs_background": "light"
     },
     "output_type": "display_data"
    }
   ],
   "source": [
    "# собираем данные в одном датафрейме\n",
    "merged_cumulative_revenue = cumulative_revenue_a.merge(\n",
    "    cumulative_revenue_b,\n",
    "    left_on='date',\n",
    "    right_on='date',\n",
    "    how='left',\n",
    "    suffixes=['A', 'B'])\n",
    "\n",
    "# задаём размер для графика\n",
    "plt.figure(figsize=(15, 5))\n",
    "\n",
    "# cтроим отношение средних чеков\n",
    "plt.plot(merged_cumulative_revenue['date'],\n",
    "         (merged_cumulative_revenue['revenueB']/\n",
    "          merged_cumulative_revenue['ordersB'])/\n",
    "         (merged_cumulative_revenue['revenueA']/\n",
    "          merged_cumulative_revenue['ordersA'])-1)\n",
    "\n",
    "# добавляем ось X\n",
    "plt.axhline(y=0, color='red', linestyle='--')\n",
    "\n",
    "plt.grid(visible=True)\n",
    "plt.title('График относительного изменения кумулятивного среднего чека группы B к группе A', fontsize=14)\n",
    "plt.xlabel('Дата', fontsize=12)\n",
    "plt.ylabel('Отношение средних чеков', fontsize=12)\n",
    "plt.show()"
   ]
  },
  {
   "cell_type": "markdown",
   "metadata": {},
   "source": [
    "**Судя по графику средний чек пользователей группы Б превышает чек группы А. В некоторых точках видны резкие скачки, это говорит о наличии крупных заказов.**"
   ]
  },
  {
   "cell_type": "markdown",
   "metadata": {},
   "source": [
    "#### Построим график кумулятивного среднего количества заказов на посетителя по группам."
   ]
  },
  {
   "cell_type": "code",
   "execution_count": 18,
   "metadata": {},
   "outputs": [
    {
     "data": {
      "image/png": "[encoded data removed]",
      "text/plain": [
       "<Figure size 1080x360 with 1 Axes>"
      ]
     },
     "metadata": {
      "needs_background": "light"
     },
     "output_type": "display_data"
    }
   ],
   "source": [
    "# считаем конверсию на пользователя\n",
    "cumulativeData['conversion'] = cumulativeData['orders']/cumulativeData['visitors']\n",
    "\n",
    "# отделяем данные по группе A\n",
    "cumulativeDataA = cumulativeData[cumulativeData['group']=='A']\n",
    "# отделяем данные по группе B\n",
    "cumulativeDataB = cumulativeData[cumulativeData['group']=='B']\n",
    "\n",
    "# строим график\n",
    "plt.figure(figsize=(15, 5))\n",
    "plt.plot(cumulativeDataA['date'], cumulativeDataA['conversion'], label='A')\n",
    "plt.plot(cumulativeDataB['date'], cumulativeDataB['conversion'], label='B')\n",
    "plt.legend()\n",
    "plt.grid(visible=True)\n",
    "plt.title(\"График кумулятивной конверсии по группам\")\n",
    "plt.ylabel(\"Среднее количества заказов\")\n",
    "plt.xlabel(\"Дата\")\n",
    "plt.show()"
   ]
  },
  {
   "cell_type": "markdown",
   "metadata": {},
   "source": [
    "**Вывод:**<br>\n",
    "Видно пиковый всплекс заказов с разницей в 1 день в группе А и в группе В на момент начала теста.  Конверсия группы A упала относительно первоначальных значений и зафиксировалась на уровне к середине теста. Конверсия группы B начала расти и далее зафиксировалась, показывая более высокий показатель чем группа А"
   ]
  },
  {
   "cell_type": "markdown",
   "metadata": {},
   "source": [
    "#### Построим график относительного изменения кумулятивного среднего количества заказов на посетителя группы B к группе A. "
   ]
  },
  {
   "cell_type": "code",
   "execution_count": 19,
   "metadata": {},
   "outputs": [
    {
     "data": {
      "image/png": "[encoded data removed]",
      "text/plain": [
       "<Figure size 1080x360 with 1 Axes>"
      ]
     },
     "metadata": {
      "needs_background": "light"
     },
     "output_type": "display_data"
    }
   ],
   "source": [
    "mergedCumulativeConversions = (cumulativeDataA[['date','conversion']]\n",
    "                               .merge(cumulativeDataB[['date','conversion']],\n",
    "                                      left_on='date', \n",
    "                                      right_on='date', \n",
    "                                      how='left', \n",
    "                                      suffixes=['A', 'B']))\n",
    "plt.figure(figsize=(15, 5))\n",
    "plt.plot(mergedCumulativeConversions['date'],\n",
    "         mergedCumulativeConversions['conversionB']/mergedCumulativeConversions['conversionA']-1,\n",
    "         label=\"Изменения среднего количества заказов пользователя группы B относительно группы A\")\n",
    "plt.legend()\n",
    "plt.axhline(y=0, color='black', linestyle='--')\n",
    "plt.axhline(y=0.21, color='grey', linestyle='--')\n",
    "plt.title(\"График относительного изменения кумулятивного среднего количества заказов на посетителя группы B к группе A\")\n",
    "plt.ylabel(\"Отношение заказов на пользователя к группе А\")\n",
    "plt.xlabel(\"Дата\")\n",
    "plt.show()"
   ]
  },
  {
   "cell_type": "markdown",
   "metadata": {},
   "source": [
    "**Судя по графику, виден относительный прирост количества заказов пользователей группы В по сравнению с группой А в среднем на 15% (20% в пике)**"
   ]
  },
  {
   "cell_type": "markdown",
   "metadata": {},
   "source": [
    "#### Построим точечный график количества заказов по пользователям."
   ]
  },
  {
   "cell_type": "code",
   "execution_count": 20,
   "metadata": {},
   "outputs": [
    {
     "data": {
      "text/html": [
       "<div>\n",
       "<style scoped>\n",
       "    .dataframe tbody tr th:only-of-type {\n",
       "        vertical-align: middle;\n",
       "    }\n",
       "\n",
       "    .dataframe tbody tr th {\n",
       "        vertical-align: top;\n",
       "    }\n",
       "\n",
       "    .dataframe thead th {\n",
       "        text-align: right;\n",
       "    }\n",
       "</style>\n",
       "<table border=\"1\" class=\"dataframe\">\n",
       "  <thead>\n",
       "    <tr style=\"text-align: right;\">\n",
       "      <th></th>\n",
       "      <th>visitor_id</th>\n",
       "      <th>orders</th>\n",
       "    </tr>\n",
       "  </thead>\n",
       "  <tbody>\n",
       "    <tr>\n",
       "      <th>908</th>\n",
       "      <td>3967698036</td>\n",
       "      <td>3</td>\n",
       "    </tr>\n",
       "    <tr>\n",
       "      <th>478</th>\n",
       "      <td>2108163459</td>\n",
       "      <td>3</td>\n",
       "    </tr>\n",
       "    <tr>\n",
       "      <th>687</th>\n",
       "      <td>2988190573</td>\n",
       "      <td>3</td>\n",
       "    </tr>\n",
       "    <tr>\n",
       "      <th>890</th>\n",
       "      <td>3908431265</td>\n",
       "      <td>3</td>\n",
       "    </tr>\n",
       "    <tr>\n",
       "      <th>138</th>\n",
       "      <td>611059232</td>\n",
       "      <td>3</td>\n",
       "    </tr>\n",
       "    <tr>\n",
       "      <th>632</th>\n",
       "      <td>2742574263</td>\n",
       "      <td>3</td>\n",
       "    </tr>\n",
       "    <tr>\n",
       "      <th>55</th>\n",
       "      <td>249864742</td>\n",
       "      <td>3</td>\n",
       "    </tr>\n",
       "    <tr>\n",
       "      <th>807</th>\n",
       "      <td>3469608676</td>\n",
       "      <td>2</td>\n",
       "    </tr>\n",
       "    <tr>\n",
       "      <th>792</th>\n",
       "      <td>3379260072</td>\n",
       "      <td>2</td>\n",
       "    </tr>\n",
       "    <tr>\n",
       "      <th>787</th>\n",
       "      <td>3362039251</td>\n",
       "      <td>2</td>\n",
       "    </tr>\n",
       "  </tbody>\n",
       "</table>\n",
       "</div>"
      ],
      "text/plain": [
       "     visitor_id  orders\n",
       "908  3967698036  3     \n",
       "478  2108163459  3     \n",
       "687  2988190573  3     \n",
       "890  3908431265  3     \n",
       "138  611059232   3     \n",
       "632  2742574263  3     \n",
       "55   249864742   3     \n",
       "807  3469608676  2     \n",
       "792  3379260072  2     \n",
       "787  3362039251  2     "
      ]
     },
     "metadata": {},
     "output_type": "display_data"
    }
   ],
   "source": [
    "# число заказов(транзакций) по пользователям\n",
    "orders_by_users = (\n",
    "    orders.groupby('visitor_id', as_index=False)\n",
    "    .agg({'transaction_id': 'nunique'})\n",
    "    .sort_values(by='transaction_id', ascending=False)\n",
    "    .rename(columns={'transaction_id': 'orders'})\n",
    ")\n",
    "\n",
    "display(orders_by_users.sort_values(by= 'orders', ascending = False).head(10))"
   ]
  },
  {
   "cell_type": "code",
   "execution_count": 21,
   "metadata": {
    "scrolled": true
   },
   "outputs": [
    {
     "data": {
      "image/png": "[encoded data removed]",
      "text/plain": [
       "<Figure size 1080x360 with 1 Axes>"
      ]
     },
     "metadata": {
      "needs_background": "light"
     },
     "output_type": "display_data"
    }
   ],
   "source": [
    "# Построим точечный график количества заказов по пользователям\n",
    "x_values = pd.Series(range(0, len(orders_by_users)))\n",
    "plt.figure(figsize=(15, 5))\n",
    "plt.scatter(x_values, orders_by_users['orders'])\n",
    "plt.title(\"Точечный график количества заказов по пользователям\")\n",
    "plt.ylabel(\"Количество заказов\")\n",
    "plt.xlabel(\"Пользователи\")\n",
    "plt.show()"
   ]
  },
  {
   "cell_type": "markdown",
   "metadata": {},
   "source": [
    "**Судя по графику в большинстве случаев один пользователь делал один заказ, реже - два. Три заказа это максимальное число и таких пользователей всего 7.**"
   ]
  },
  {
   "cell_type": "markdown",
   "metadata": {},
   "source": [
    "#### Посчитаем 95-й и 99-й перцентили количества заказов на пользователя"
   ]
  },
  {
   "cell_type": "code",
   "execution_count": 22,
   "metadata": {},
   "outputs": [
    {
     "data": {
      "text/plain": [
       "array([1., 2.])"
      ]
     },
     "metadata": {},
     "output_type": "display_data"
    }
   ],
   "source": [
    "display(np.percentile(orders_by_users['orders'], [95, 99]))"
   ]
  },
  {
   "cell_type": "markdown",
   "metadata": {},
   "source": [
    "**Можно сделать вывод, что пользователи с 3 заказами составляют менее 1%(граница в 99 прецентилей - 2 заказа).**"
   ]
  },
  {
   "cell_type": "markdown",
   "metadata": {},
   "source": [
    "#### Построим точечный график стоимостей заказов"
   ]
  },
  {
   "cell_type": "code",
   "execution_count": 23,
   "metadata": {},
   "outputs": [
    {
     "data": {
      "image/png": "[encoded data removed]",
      "text/plain": [
       "<Figure size 720x360 with 1 Axes>"
      ]
     },
     "metadata": {
      "needs_background": "light"
     },
     "output_type": "display_data"
    }
   ],
   "source": [
    "x_values = pd.Series(range(0,len(orders['revenue'])))\n",
    "plt.figure(figsize=(10, 5))\n",
    "plt.scatter(x_values, orders['revenue'], alpha=0.3)\n",
    "plt.title('Точечный график распределения стоимостей заказов')\n",
    "plt.ylabel('Стоимость заказа')\n",
    "plt.xlabel('Пользователи')\n",
    "plt.show()"
   ]
  },
  {
   "cell_type": "markdown",
   "metadata": {},
   "source": [
    "Посмотрим поближе"
   ]
  },
  {
   "cell_type": "code",
   "execution_count": 24,
   "metadata": {},
   "outputs": [
    {
     "data": {
      "image/png": "[encoded data removed]",
      "text/plain": [
       "<Figure size 720x360 with 1 Axes>"
      ]
     },
     "metadata": {
      "needs_background": "light"
     },
     "output_type": "display_data"
    }
   ],
   "source": [
    "x_values = pd.Series(range(0,len(orders['revenue'])))\n",
    "plt.figure(figsize=(10, 5))\n",
    "plt.scatter(x_values, orders['revenue'], alpha=0.8)\n",
    "plt.ylim(0, 50000)\n",
    "plt.title('Точечный график распределения стоимостей заказов')\n",
    "plt.ylabel('Стоимость заказа')\n",
    "plt.xlabel('Пользователи')\n",
    "plt.show()"
   ]
  },
  {
   "cell_type": "markdown",
   "metadata": {},
   "source": [
    "В основной массе заказы имеют стоимость <10 000р. На графике видно два резко выбивающихся из общей картины выброса, если в 20 тыс. еще нормальный, а вот 1,3 млн можно считать выбросом."
   ]
  },
  {
   "cell_type": "markdown",
   "metadata": {},
   "source": [
    "#### Посчитаем 95-й и 99-й перцентили стоимости заказов"
   ]
  },
  {
   "cell_type": "code",
   "execution_count": 25,
   "metadata": {},
   "outputs": [
    {
     "data": {
      "text/plain": [
       "array([26785., 53904.])"
      ]
     },
     "execution_count": 25,
     "metadata": {},
     "output_type": "execute_result"
    }
   ],
   "source": [
    "np.percentile(orders['revenue'], [95, 99])"
   ]
  },
  {
   "cell_type": "markdown",
   "metadata": {},
   "source": [
    "**Можно сделать вывод, что 99% всех заказов по стоимости доходят до 53 904р. Заказы выше этой суммы  составляют менее 1 % от общего числа заказов.**"
   ]
  },
  {
   "cell_type": "markdown",
   "metadata": {},
   "source": [
    "#### Посчитаем статистическую значимость различий в среднем количестве заказов на посетителя между группами по «сырым» данным."
   ]
  },
  {
   "cell_type": "markdown",
   "metadata": {},
   "source": [
    "Установим уровень значимости α = 5%<br>Применим статистический критерий Манна-Уитни<br>\n",
    "H₀ - статистически значимых различий в конверсии между группами нет.<br>\n",
    "H₁ - статистически значимые различия между группами есть.<br>\n",
    "В случае если P-value < α, нулевая гипотеза отвергается<br>\n",
    "Если P-value > α, отвергается альтернативная гипотеза"
   ]
  },
  {
   "cell_type": "code",
   "execution_count": 26,
   "metadata": {
    "scrolled": true
   },
   "outputs": [
    {
     "name": "stdout",
     "output_type": "stream",
     "text": [
      "P-value = 0.01102\n",
      "Относительное различие в средней конверсии между группами по «сырым» данным: 0.160\n"
     ]
    }
   ],
   "source": [
    "visitorsADaily = visitors[visitors['group'] == 'A'][['date', 'visitors']]\n",
    "visitorsADaily.columns = ['date', 'visitorsPerDateA']\n",
    "\n",
    "visitorsACummulative = visitorsADaily.apply(\n",
    "    lambda x: visitorsADaily[visitorsADaily['date'] <= x['date']].agg(\n",
    "        {'date': 'max', 'visitorsPerDateA': 'sum'}\n",
    "    ),\n",
    "    axis=1,\n",
    ")\n",
    "visitorsACummulative.columns = ['date', 'visitorsCummulativeA']\n",
    "\n",
    "visitorsBDaily = visitors[visitors['group'] == 'B'][['date', 'visitors']]\n",
    "visitorsBDaily.columns = ['date', 'visitorsPerDateB']\n",
    "\n",
    "visitorsBCummulative = visitorsBDaily.apply(\n",
    "    lambda x: visitorsBDaily[visitorsBDaily['date'] <= x['date']].agg(\n",
    "        {'date': 'max', 'visitorsPerDateB': 'sum'}\n",
    "    ),\n",
    "    axis=1,\n",
    ")\n",
    "visitorsBCummulative.columns = ['date', 'visitorsCummulativeB']\n",
    "\n",
    "ordersADaily = (\n",
    "    orders[orders['group'] == 'A'][['date', 'transaction_id', 'visitor_id', 'revenue']]\n",
    "    .groupby('date', as_index=False)\n",
    "    .agg({'transaction_id': pd.Series.nunique, 'revenue': 'sum'})\n",
    ")\n",
    "ordersADaily.columns = ['date', 'ordersPerDateA', 'revenuePerDateA']\n",
    "\n",
    "ordersACummulative = ordersADaily.apply(\n",
    "    lambda x: ordersADaily[ordersADaily['date'] <= x['date']].agg(\n",
    "        {'date': 'max', 'ordersPerDateA': 'sum', 'revenuePerDateA': 'sum'}\n",
    "    ),\n",
    "    axis=1,\n",
    ").sort_values(by=['date'])\n",
    "ordersACummulative.columns = [\n",
    "    'date',\n",
    "    'ordersCummulativeA',\n",
    "    'revenueCummulativeA',\n",
    "]\n",
    "\n",
    "ordersBDaily = (\n",
    "    orders[orders['group'] == 'B'][['date', 'transaction_id', 'visitor_id', 'revenue']]\n",
    "    .groupby('date', as_index=False)\n",
    "    .agg({'transaction_id': pd.Series.nunique, 'revenue': 'sum'})\n",
    ")\n",
    "ordersBDaily.columns = ['date', 'ordersPerDateB', 'revenuePerDateB']\n",
    "\n",
    "ordersBCummulative = ordersBDaily.apply(\n",
    "    lambda x: ordersBDaily[ordersBDaily['date'] <= x['date']].agg(\n",
    "        {'date': 'max', 'ordersPerDateB': 'sum', 'revenuePerDateB': 'sum'}\n",
    "    ),\n",
    "    axis=1,\n",
    ").sort_values(by=['date'])\n",
    "ordersBCummulative.columns = [\n",
    "    'date',\n",
    "    'ordersCummulativeB',\n",
    "    'revenueCummulativeB',\n",
    "]\n",
    "\n",
    "data = (\n",
    "    ordersADaily.merge(\n",
    "        ordersBDaily, left_on='date', right_on='date', how='left'\n",
    "    )\n",
    "    .merge(ordersACummulative, left_on='date', right_on='date', how='left')\n",
    "    .merge(ordersBCummulative, left_on='date', right_on='date', how='left')\n",
    "    .merge(visitorsADaily, left_on='date', right_on='date', how='left')\n",
    "    .merge(visitorsBDaily, left_on='date', right_on='date', how='left')\n",
    "    .merge(visitorsACummulative, left_on='date', right_on='date', how='left')\n",
    "    .merge(visitorsBCummulative, left_on='date', right_on='date', how='left')\n",
    ")\n",
    "\n",
    "ordersByUsersA = (\n",
    "    orders[orders['group'] == 'A']\n",
    "    .groupby('visitor_id', as_index=False)\n",
    "    .agg({'transaction_id': pd.Series.nunique})\n",
    ")\n",
    "ordersByUsersA.columns = ['visitor_id', 'orders']\n",
    "\n",
    "ordersByUsersB = (\n",
    "    orders[orders['group'] == 'B']\n",
    "    .groupby('visitor_id', as_index=False)\n",
    "    .agg({'transaction_id': pd.Series.nunique})\n",
    ")\n",
    "ordersByUsersB.columns = ['visitor_id', 'orders']\n",
    "\n",
    "sampleA = pd.concat(\n",
    "    [\n",
    "        ordersByUsersA['orders'],\n",
    "        pd.Series(\n",
    "            0,\n",
    "            index=np.arange(\n",
    "                data['visitorsPerDateA'].sum() - len(ordersByUsersA['orders'])\n",
    "            ),\n",
    "            name='orders',\n",
    "        ),\n",
    "    ],\n",
    "    axis=0,\n",
    ")\n",
    "\n",
    "sampleB = pd.concat(\n",
    "    [\n",
    "        ordersByUsersB['orders'],\n",
    "        pd.Series(\n",
    "            0,\n",
    "            index=np.arange(\n",
    "                data['visitorsPerDateB'].sum() - len(ordersByUsersB['orders'])\n",
    "            ),\n",
    "            name='orders',\n",
    "        ),\n",
    "    ],\n",
    "    axis=0,\n",
    ")\n",
    "\n",
    "print('P-value = '\"{0:.5f}\".format(st.mannwhitneyu(sampleA, sampleB)[1]))\n",
    "print('Относительное различие в средней конверсии между группами по «сырым» данным: '\"{0:.3f}\"\n",
    "      .format((data['ordersPerDateB'].sum()/\n",
    "               data['visitorsPerDateB'].sum())\n",
    "              /(data['ordersPerDateA'].sum()\n",
    "                /data['visitorsPerDateA'].sum())-1))"
   ]
  },
  {
   "cell_type": "markdown",
   "metadata": {},
   "source": [
    "P-value меньше 0.05. Значит, нулевую гипотезу о том, что статистически значимых различий в среднем числе заказов между группами нет, отвергаем в пользу альтернативной гипотезы - среднее число заказов на пользователя между группами различается."
   ]
  },
  {
   "cell_type": "markdown",
   "metadata": {},
   "source": [
    "#### Посчитаем статистическую значимость различий в среднем чеке заказа между группами по «сырым» данным. \n"
   ]
  },
  {
   "cell_type": "markdown",
   "metadata": {},
   "source": [
    "Установим уровень значимости в 5%<br>\n",
    "H₀ - статистически значимых различий в среднем чеке между группами нет <br>\n",
    "H₁ - статистически значимые различия в среднем чеке между группами есть."
   ]
  },
  {
   "cell_type": "code",
   "execution_count": 27,
   "metadata": {},
   "outputs": [
    {
     "data": {
      "text/plain": [
       "MannwhitneyuResult(statistic=129236.5, pvalue=0.8294908998149533)"
      ]
     },
     "execution_count": 27,
     "metadata": {},
     "output_type": "execute_result"
    }
   ],
   "source": [
    "st.mannwhitneyu(orders[orders['group']=='A']['revenue'], orders[orders['group']=='B']['revenue'])"
   ]
  },
  {
   "cell_type": "markdown",
   "metadata": {},
   "source": [
    "**P-value = 0.829 и значительно больше 0.05. Значит нулевую гипотезу не отвергаем и нельзя считать, что в среднем чеке есть различия.**"
   ]
  },
  {
   "cell_type": "markdown",
   "metadata": {},
   "source": [
    "Посмотрим на сами различия в среднем чеке"
   ]
  },
  {
   "cell_type": "code",
   "execution_count": 28,
   "metadata": {},
   "outputs": [
    {
     "name": "stdout",
     "output_type": "stream",
     "text": [
      "0.287\n"
     ]
    }
   ],
   "source": [
    "print('{0:.3f}'.format(orders[orders['group']=='B']['revenue'].mean()/orders[orders['group']=='A']['revenue'].mean()-1))"
   ]
  },
  {
   "cell_type": "markdown",
   "metadata": {},
   "source": [
    "Различия в среднем чеке между группами составляют 28,7%"
   ]
  },
  {
   "cell_type": "markdown",
   "metadata": {},
   "source": [
    "#### Посчитаем статистическую значимость различий в среднем количестве заказов на посетителя между группами по «очищенным» данным.\n"
   ]
  },
  {
   "cell_type": "markdown",
   "metadata": {},
   "source": [
    "Установим уровень значимости в 5%<br>\n",
    "H₀ - статистически значимых различий в среднем количестве заказов между группами нет <br>\n",
    "H₁ - статистически значие различия в среднем количестве заказов между группами есть."
   ]
  },
  {
   "cell_type": "markdown",
   "metadata": {},
   "source": [
    "Учтем за аномальных пользователей тех, у кого более 3 заказов или заказ дороже 53 904 р."
   ]
  },
  {
   "cell_type": "code",
   "execution_count": 29,
   "metadata": {},
   "outputs": [
    {
     "name": "stdout",
     "output_type": "stream",
     "text": [
      "16\n"
     ]
    }
   ],
   "source": [
    "usersWithManyOrders = pd.concat(\n",
    "    [\n",
    "        ordersByUsersA[ordersByUsersA['orders'] > np.percentile(orders_by_users['orders'],99)]['visitor_id'],\n",
    "        ordersByUsersB[ordersByUsersB['orders'] > np.percentile(orders_by_users['orders'],99)]['visitor_id'],\n",
    "    ],\n",
    "    axis=0,\n",
    ")\n",
    "usersWithExpensiveOrders = orders[orders['revenue'] > np.percentile(orders['revenue'], [95, 99])[1]]['visitor_id']\n",
    "abnormalUsers = (\n",
    "    pd.concat([usersWithManyOrders, usersWithExpensiveOrders], axis=0)\n",
    "    .drop_duplicates()\n",
    "    .sort_values()\n",
    ")\n",
    "print(abnormalUsers.shape[0]) "
   ]
  },
  {
   "cell_type": "markdown",
   "metadata": {},
   "source": [
    "Исключаем 16 пользователей"
   ]
  },
  {
   "cell_type": "code",
   "execution_count": 30,
   "metadata": {},
   "outputs": [
    {
     "name": "stdout",
     "output_type": "stream",
     "text": [
      "0.007\n",
      "Количество заказов пользователя группы В превышает количество заказов группы А на 18.921 %\n"
     ]
    }
   ],
   "source": [
    "SampleAFiltered = pd.concat(\n",
    "    [\n",
    "        ordersByUsersA[\n",
    "            np.logical_not(ordersByUsersA['visitor_id'].isin(abnormalUsers))\n",
    "        ]['orders'],\n",
    "        pd.Series(\n",
    "            0,\n",
    "            index=np.arange(\n",
    "                data['visitorsPerDateA'].sum() - len(ordersByUsersA['orders'])\n",
    "            ),\n",
    "            name='orders',\n",
    "        ),\n",
    "    ],\n",
    "    axis=0,\n",
    ")\n",
    "\n",
    "sampleBFiltered = pd.concat(\n",
    "    [\n",
    "        ordersByUsersB[\n",
    "            np.logical_not(ordersByUsersB['visitor_id'].isin(abnormalUsers))\n",
    "        ]['orders'],\n",
    "        pd.Series(\n",
    "            0,\n",
    "            index=np.arange(\n",
    "                data['visitorsPerDateB'].sum() - len(ordersByUsersB['orders'])\n",
    "            ),\n",
    "            name='orders',\n",
    "        ),\n",
    "    ],\n",
    "    axis=0,\n",
    ") \n",
    "print('{0:.3f}'.format(st.mannwhitneyu(SampleAFiltered, sampleBFiltered)[1]))\n",
    "print('Количество заказов пользователя группы В превышает количество заказов группы А на ''{0:.3f}'.format(\n",
    "    (sampleBFiltered.mean()/SampleAFiltered.mean()-1)*100),'%')"
   ]
  },
  {
   "cell_type": "markdown",
   "metadata": {},
   "source": [
    "P-value = 0.007 и меньше 0.05. Значит, нулевую гипотезу о том, что статистически значимых различий в среднем числе заказов между группами нет, отвергаем в пользу альтернативной гипотезы - среднее число заказов на пользователя между группами различается.\n",
    "Количество заказов пользователя группы В превышает количество заказов группы А на 18.921 % на очищенных данных"
   ]
  },
  {
   "cell_type": "markdown",
   "metadata": {},
   "source": [
    "#### Посчитаем статистическую значимость различий в среднем чеке заказа между группами по «очищенным» данным.\n"
   ]
  },
  {
   "cell_type": "markdown",
   "metadata": {},
   "source": [
    "Установим уровень значимости в 5%<br>\n",
    "H₀ - статистически значимых различий в среднем чеке заказа между группами по «очищенным» данным нет <br>\n",
    "H₁ - статистически значимые различия между группами есть."
   ]
  },
  {
   "cell_type": "code",
   "execution_count": 31,
   "metadata": {},
   "outputs": [
    {
     "name": "stdout",
     "output_type": "stream",
     "text": [
      "0.788\n"
     ]
    }
   ],
   "source": [
    "print(\n",
    "    '{0:.3f}'.format(\n",
    "        st.mannwhitneyu(\n",
    "            orders[\n",
    "                np.logical_and(\n",
    "                    orders['group'] == 'A',\n",
    "                    np.logical_not(orders['visitor_id'].isin(abnormalUsers)),\n",
    "                )\n",
    "            ]['revenue'],\n",
    "            orders[\n",
    "                np.logical_and(\n",
    "                    orders['group'] == 'B',\n",
    "                    np.logical_not(orders['visitor_id'].isin(abnormalUsers)),\n",
    "                )\n",
    "            ]['revenue'],\n",
    "        )[1]\n",
    "    )\n",
    ")"
   ]
  },
  {
   "cell_type": "markdown",
   "metadata": {},
   "source": [
    "P-value = 0.788, что больше чем 0.05. Нулевую гипотезу о том,что в среднем чеке нет различия не отвергаем"
   ]
  },
  {
   "cell_type": "code",
   "execution_count": 32,
   "metadata": {},
   "outputs": [
    {
     "name": "stdout",
     "output_type": "stream",
     "text": [
      "0.033\n"
     ]
    }
   ],
   "source": [
    "print(\n",
    "    '{0:.3f}'.format(\n",
    "        orders[\n",
    "            np.logical_and(\n",
    "                orders['group'] == 'A',\n",
    "                np.logical_not(orders['visitor_id'].isin(abnormalUsers)),\n",
    "            )\n",
    "        ]['revenue'].mean() /\n",
    "        orders[\n",
    "            np.logical_and(\n",
    "                orders['group'] == 'B',\n",
    "                np.logical_not(orders['visitor_id'].isin(abnormalUsers)),\n",
    "            )\n",
    "        ]['revenue'].mean()-1\n",
    "    )\n",
    ")"
   ]
  },
  {
   "cell_type": "markdown",
   "metadata": {},
   "source": [
    "Различия в среднем чеке не превышает 3,3%, следовательно нулевую гипотезу правильно не отвергли."
   ]
  },
  {
   "cell_type": "markdown",
   "metadata": {},
   "source": [
    "### Итоговое решение:"
   ]
  },
  {
   "cell_type": "markdown",
   "metadata": {},
   "source": [
    "По результатам теста можно принять одно из возможных вариантов решений:<br>\n",
    "\n",
    "✔️ Остановить тест, зафиксировать победу одной из групп.<br>\n",
    "❌ Остановить тест, зафиксировать отсутствие различий между группами.<br>\n",
    "❌ Продолжить тест.<br>"
   ]
  },
  {
   "cell_type": "markdown",
   "metadata": {},
   "source": [
    "Тест показал, что количество заказов у пользователей группы В превышает количество заказов у группы А на 18.921 % по очищенным данным<br>\n",
    "Нет статистически значимого различия по среднему чеку между группами A и B.<br>\n",
    "\n",
    "По результатам теста при равном чеке, но большей конверсии заказов принять решение - зафиксировать победу группы В и остановить тест.<br> "
   ]
  },
  {
   "cell_type": "markdown",
   "metadata": {},
   "source": [
    "### Общий вывод\n",
    "\n",
    "*Работа была разделена на две части.*<br>\n",
    "**Часть 1:**<br>\n",
    "- В обоих случаях (ICE и RICE) гипотеза №0 и №7 входят в тройку, что показывает перспективу дальнейшего развития гипотез.\n",
    "- Наболее перспективная гипотеза по ICE под номером 8(Запустить акцию на скидку ко дню рождения) опустилось на пятое место при расчете RICE. Это объясняется показателем reach - количество пользователей, которое затронет изменение.в случае с гипотезой №7 данный показатель равен 10, а с доминирующей гипотезой №8 по ICE значение reach = 1. \n",
    "- \"Запустить акцию, дающую скидку на товар в день рождения\" - потенциально выгодно для удержания и привлечения пользователей, но коснется оно небольшого числа людей(многие не хотят давать перс. данные или просто не указывают дату рождения), поэтому фреймворк RISE опустил данный метод на 5 место по приоритету.<br><br>\n",
    "Необходимо сфокусироваться на гипотезах №0 и №7: \n",
    "1. Добавить два новых канала привлечения трафика, что позволит привлекать на 30% больше пользователей\n",
    "2. Добавить форму подписки на все основные страницы, чтобы собрать базу клиентов для email-рассылок\t\n",
    "\n",
    "**Часть 2:**<br>\n",
    "Исключив пользователей, которые попали в обе группы, можно сделать выводы, что:\n",
    "- Основная масса пользователей за представленный период ограничилась 1,2 заказами на сумму не более 10 000 рублей по обеим исследуемым группам.<br>\n",
    "- Среднее количество заказов на 18,9% у группы В превышает количество заказов у группы А. \n",
    "- Значимые изменения по среднему чеку отсутствуют( изменения составили 3,3%). \n",
    "- По результатам теста при равном чеке, но большей конверсии заказов принять решение - зафиксировать победу группы В и остановить тест.\n",
    "- В конечном счете итоговая выручка увеличилась, так как покупки через сайт стали чаще."
   ]
  }
 ],
 "metadata": {
  "ExecuteTimeLog": [
   {
    "duration": 1396,
    "start_time": "2023-06-16T12:40:50.854Z"
   },
   {
    "duration": 68,
    "start_time": "2023-06-16T12:40:52.252Z"
   },
   {
    "duration": 4,
    "start_time": "2023-06-16T12:40:57.289Z"
   },
   {
    "duration": 122,
    "start_time": "2023-06-16T12:40:58.292Z"
   },
   {
    "duration": 316,
    "start_time": "2023-06-16T12:41:13.806Z"
   },
   {
    "duration": 5,
    "start_time": "2023-06-16T12:41:33.206Z"
   },
   {
    "duration": 109,
    "start_time": "2023-06-16T12:41:33.844Z"
   },
   {
    "duration": 1209,
    "start_time": "2023-06-16T12:48:48.589Z"
   },
   {
    "duration": 91,
    "start_time": "2023-06-16T12:48:49.800Z"
   },
   {
    "duration": 4,
    "start_time": "2023-06-16T12:55:10.214Z"
   },
   {
    "duration": 78,
    "start_time": "2023-06-16T12:55:10.372Z"
   },
   {
    "duration": 4,
    "start_time": "2023-06-16T13:02:36.954Z"
   },
   {
    "duration": 35,
    "start_time": "2023-06-16T13:03:31.062Z"
   },
   {
    "duration": 27,
    "start_time": "2023-06-16T13:03:44.816Z"
   },
   {
    "duration": 31,
    "start_time": "2023-06-16T13:03:45.099Z"
   },
   {
    "duration": 5,
    "start_time": "2023-06-16T13:07:34.354Z"
   },
   {
    "duration": 93,
    "start_time": "2023-06-16T13:07:34.570Z"
   },
   {
    "duration": 6,
    "start_time": "2023-06-16T13:07:36.691Z"
   },
   {
    "duration": 42,
    "start_time": "2023-06-16T13:07:39.272Z"
   },
   {
    "duration": 25,
    "start_time": "2023-06-16T13:07:40.208Z"
   },
   {
    "duration": 6,
    "start_time": "2023-06-16T13:09:37.444Z"
   },
   {
    "duration": 1412,
    "start_time": "2023-06-16T13:09:41.374Z"
   },
   {
    "duration": 97,
    "start_time": "2023-06-16T13:09:42.788Z"
   },
   {
    "duration": 24,
    "start_time": "2023-06-16T13:09:42.887Z"
   },
   {
    "duration": 35,
    "start_time": "2023-06-16T13:09:42.914Z"
   },
   {
    "duration": 30,
    "start_time": "2023-06-16T13:09:42.952Z"
   },
   {
    "duration": 60,
    "start_time": "2023-06-16T13:09:42.984Z"
   },
   {
    "duration": 26,
    "start_time": "2023-06-16T13:09:43.046Z"
   },
   {
    "duration": 9,
    "start_time": "2023-06-16T13:11:18.905Z"
   },
   {
    "duration": 4,
    "start_time": "2023-06-16T13:11:19.737Z"
   },
   {
    "duration": 35,
    "start_time": "2023-06-16T13:11:42.382Z"
   },
   {
    "duration": 10,
    "start_time": "2023-06-16T13:12:09.176Z"
   },
   {
    "duration": 7,
    "start_time": "2023-06-16T13:13:22.757Z"
   },
   {
    "duration": 41,
    "start_time": "2023-06-16T13:13:28.117Z"
   },
   {
    "duration": 2,
    "start_time": "2023-06-16T13:13:37.853Z"
   },
   {
    "duration": 18,
    "start_time": "2023-06-16T13:17:05.301Z"
   },
   {
    "duration": 17,
    "start_time": "2023-06-16T13:18:22.169Z"
   },
   {
    "duration": 12,
    "start_time": "2023-06-16T13:18:31.109Z"
   },
   {
    "duration": 12,
    "start_time": "2023-06-16T13:18:37.247Z"
   },
   {
    "duration": 13,
    "start_time": "2023-06-16T13:19:53.726Z"
   },
   {
    "duration": 15,
    "start_time": "2023-06-16T13:23:15.051Z"
   },
   {
    "duration": 12,
    "start_time": "2023-06-16T13:25:37.245Z"
   },
   {
    "duration": 21,
    "start_time": "2023-06-16T13:31:19.891Z"
   },
   {
    "duration": 14,
    "start_time": "2023-06-16T13:46:18.901Z"
   },
   {
    "duration": 750,
    "start_time": "2023-06-16T13:46:44.923Z"
   },
   {
    "duration": 13,
    "start_time": "2023-06-16T13:46:59.704Z"
   },
   {
    "duration": 12,
    "start_time": "2023-06-16T13:47:16.112Z"
   },
   {
    "duration": 8,
    "start_time": "2023-06-16T13:52:10.500Z"
   },
   {
    "duration": 21,
    "start_time": "2023-06-16T13:52:42.705Z"
   },
   {
    "duration": 306,
    "start_time": "2023-06-16T13:58:03.989Z"
   },
   {
    "duration": 334,
    "start_time": "2023-06-16T13:58:12.704Z"
   },
   {
    "duration": 8,
    "start_time": "2023-06-16T13:58:32.215Z"
   },
   {
    "duration": 289,
    "start_time": "2023-06-16T13:58:33.775Z"
   },
   {
    "duration": 294,
    "start_time": "2023-06-16T13:58:37.173Z"
   },
   {
    "duration": 1259,
    "start_time": "2023-06-16T13:59:19.174Z"
   },
   {
    "duration": 94,
    "start_time": "2023-06-16T13:59:20.435Z"
   },
   {
    "duration": 5,
    "start_time": "2023-06-16T13:59:20.531Z"
   },
   {
    "duration": 63,
    "start_time": "2023-06-16T13:59:20.538Z"
   },
   {
    "duration": 21,
    "start_time": "2023-06-16T13:59:20.604Z"
   },
   {
    "duration": 53,
    "start_time": "2023-06-16T13:59:20.627Z"
   },
   {
    "duration": 7,
    "start_time": "2023-06-16T13:59:20.682Z"
   },
   {
    "duration": 16,
    "start_time": "2023-06-16T13:59:20.691Z"
   },
   {
    "duration": 7,
    "start_time": "2023-06-16T13:59:20.709Z"
   },
   {
    "duration": 18,
    "start_time": "2023-06-16T13:59:20.718Z"
   },
   {
    "duration": 26,
    "start_time": "2023-06-16T13:59:20.738Z"
   },
   {
    "duration": 26,
    "start_time": "2023-06-16T13:59:20.776Z"
   },
   {
    "duration": 120,
    "start_time": "2023-06-16T13:59:20.804Z"
   },
   {
    "duration": 0,
    "start_time": "2023-06-16T13:59:20.926Z"
   },
   {
    "duration": 0,
    "start_time": "2023-06-16T13:59:20.927Z"
   },
   {
    "duration": 0,
    "start_time": "2023-06-16T13:59:20.929Z"
   },
   {
    "duration": 305,
    "start_time": "2023-06-16T13:59:27.436Z"
   },
   {
    "duration": 369,
    "start_time": "2023-06-16T13:59:28.813Z"
   },
   {
    "duration": 8,
    "start_time": "2023-06-16T13:59:43.639Z"
   },
   {
    "duration": 334,
    "start_time": "2023-06-16T13:59:44.510Z"
   },
   {
    "duration": 327,
    "start_time": "2023-06-16T13:59:46.852Z"
   },
   {
    "duration": 1503,
    "start_time": "2023-06-16T14:00:01.262Z"
   },
   {
    "duration": 80,
    "start_time": "2023-06-16T14:00:02.767Z"
   },
   {
    "duration": 53,
    "start_time": "2023-06-16T14:00:02.849Z"
   },
   {
    "duration": 100,
    "start_time": "2023-06-16T14:00:02.904Z"
   },
   {
    "duration": 35,
    "start_time": "2023-06-16T14:00:03.007Z"
   },
   {
    "duration": 56,
    "start_time": "2023-06-16T14:00:03.043Z"
   },
   {
    "duration": 29,
    "start_time": "2023-06-16T14:00:03.100Z"
   },
   {
    "duration": 61,
    "start_time": "2023-06-16T14:00:03.131Z"
   },
   {
    "duration": 59,
    "start_time": "2023-06-16T14:00:03.194Z"
   },
   {
    "duration": 59,
    "start_time": "2023-06-16T14:00:03.255Z"
   },
   {
    "duration": 23,
    "start_time": "2023-06-16T14:00:03.316Z"
   },
   {
    "duration": 58,
    "start_time": "2023-06-16T14:00:03.341Z"
   },
   {
    "duration": 173,
    "start_time": "2023-06-16T14:00:03.402Z"
   },
   {
    "duration": 0,
    "start_time": "2023-06-16T14:00:03.577Z"
   },
   {
    "duration": 0,
    "start_time": "2023-06-16T14:00:03.578Z"
   },
   {
    "duration": 0,
    "start_time": "2023-06-16T14:00:03.579Z"
   },
   {
    "duration": 6,
    "start_time": "2023-06-16T14:00:25.486Z"
   },
   {
    "duration": 18,
    "start_time": "2023-06-16T14:00:53.135Z"
   },
   {
    "duration": 14,
    "start_time": "2023-06-16T14:00:59.821Z"
   },
   {
    "duration": 7,
    "start_time": "2023-06-16T14:01:00.598Z"
   },
   {
    "duration": 13,
    "start_time": "2023-06-16T14:01:03.166Z"
   },
   {
    "duration": 4,
    "start_time": "2023-06-16T14:01:41.518Z"
   },
   {
    "duration": 8,
    "start_time": "2023-06-16T14:02:31.592Z"
   },
   {
    "duration": 297,
    "start_time": "2023-06-16T14:02:31.871Z"
   },
   {
    "duration": 401,
    "start_time": "2023-06-16T14:02:32.430Z"
   },
   {
    "duration": 1267,
    "start_time": "2023-06-16T14:11:04.497Z"
   },
   {
    "duration": 91,
    "start_time": "2023-06-16T14:11:05.767Z"
   },
   {
    "duration": 3,
    "start_time": "2023-06-16T14:11:05.860Z"
   },
   {
    "duration": 66,
    "start_time": "2023-06-16T14:11:05.865Z"
   },
   {
    "duration": 28,
    "start_time": "2023-06-16T14:11:05.933Z"
   },
   {
    "duration": 30,
    "start_time": "2023-06-16T14:11:05.964Z"
   },
   {
    "duration": 14,
    "start_time": "2023-06-16T14:11:05.996Z"
   },
   {
    "duration": 26,
    "start_time": "2023-06-16T14:11:06.011Z"
   },
   {
    "duration": 31,
    "start_time": "2023-06-16T14:11:06.038Z"
   },
   {
    "duration": 50,
    "start_time": "2023-06-16T14:11:06.070Z"
   },
   {
    "duration": 31,
    "start_time": "2023-06-16T14:11:06.122Z"
   },
   {
    "duration": 29,
    "start_time": "2023-06-16T14:11:06.155Z"
   },
   {
    "duration": 32,
    "start_time": "2023-06-16T14:11:06.186Z"
   },
   {
    "duration": 409,
    "start_time": "2023-06-16T14:11:06.222Z"
   },
   {
    "duration": 372,
    "start_time": "2023-06-16T14:11:06.634Z"
   },
   {
    "duration": 246,
    "start_time": "2023-06-16T14:11:44.664Z"
   },
   {
    "duration": 258,
    "start_time": "2023-06-16T14:11:52.475Z"
   },
   {
    "duration": 2,
    "start_time": "2023-06-16T14:18:49.105Z"
   },
   {
    "duration": 419,
    "start_time": "2023-06-16T14:19:40.845Z"
   },
   {
    "duration": 319,
    "start_time": "2023-06-16T14:19:49.029Z"
   },
   {
    "duration": 289,
    "start_time": "2023-06-16T14:22:17.293Z"
   },
   {
    "duration": 265,
    "start_time": "2023-06-16T14:22:28.605Z"
   },
   {
    "duration": 287,
    "start_time": "2023-06-16T14:22:36.399Z"
   },
   {
    "duration": 366,
    "start_time": "2023-06-16T14:23:13.863Z"
   },
   {
    "duration": 115,
    "start_time": "2023-06-16T14:41:04.650Z"
   },
   {
    "duration": 414,
    "start_time": "2023-06-16T14:41:32.356Z"
   },
   {
    "duration": 406,
    "start_time": "2023-06-16T14:43:58.150Z"
   },
   {
    "duration": 346,
    "start_time": "2023-06-16T14:44:12.131Z"
   },
   {
    "duration": 384,
    "start_time": "2023-06-16T14:44:27.968Z"
   },
   {
    "duration": 368,
    "start_time": "2023-06-16T14:44:45.573Z"
   },
   {
    "duration": 339,
    "start_time": "2023-06-16T14:45:11.100Z"
   },
   {
    "duration": 396,
    "start_time": "2023-06-16T14:45:26.443Z"
   },
   {
    "duration": 13,
    "start_time": "2023-06-16T14:47:53.894Z"
   },
   {
    "duration": 177,
    "start_time": "2023-06-16T14:49:36.634Z"
   },
   {
    "duration": 17,
    "start_time": "2023-06-16T14:51:36.443Z"
   },
   {
    "duration": 13,
    "start_time": "2023-06-16T14:51:45.746Z"
   },
   {
    "duration": 13,
    "start_time": "2023-06-16T14:52:09.273Z"
   },
   {
    "duration": 948,
    "start_time": "2023-06-16T14:52:18.623Z"
   },
   {
    "duration": 11,
    "start_time": "2023-06-16T14:55:49.623Z"
   },
   {
    "duration": 12,
    "start_time": "2023-06-16T14:55:51.043Z"
   },
   {
    "duration": 164,
    "start_time": "2023-06-16T14:55:53.092Z"
   },
   {
    "duration": 12,
    "start_time": "2023-06-16T14:56:22.852Z"
   },
   {
    "duration": 17,
    "start_time": "2023-06-16T14:56:30.365Z"
   },
   {
    "duration": 174,
    "start_time": "2023-06-16T14:58:17.638Z"
   },
   {
    "duration": 1154,
    "start_time": "2023-06-16T14:58:42.336Z"
   },
   {
    "duration": 78,
    "start_time": "2023-06-16T14:58:43.492Z"
   },
   {
    "duration": 3,
    "start_time": "2023-06-16T14:58:43.572Z"
   },
   {
    "duration": 49,
    "start_time": "2023-06-16T14:58:43.577Z"
   },
   {
    "duration": 20,
    "start_time": "2023-06-16T14:58:43.629Z"
   },
   {
    "duration": 31,
    "start_time": "2023-06-16T14:58:43.651Z"
   },
   {
    "duration": 8,
    "start_time": "2023-06-16T14:58:43.685Z"
   },
   {
    "duration": 23,
    "start_time": "2023-06-16T14:58:43.694Z"
   },
   {
    "duration": 6,
    "start_time": "2023-06-16T14:58:43.719Z"
   },
   {
    "duration": 18,
    "start_time": "2023-06-16T14:58:43.726Z"
   },
   {
    "duration": 12,
    "start_time": "2023-06-16T14:58:43.746Z"
   },
   {
    "duration": 18,
    "start_time": "2023-06-16T14:58:43.760Z"
   },
   {
    "duration": 15,
    "start_time": "2023-06-16T14:58:43.782Z"
   },
   {
    "duration": 322,
    "start_time": "2023-06-16T14:58:43.800Z"
   },
   {
    "duration": 370,
    "start_time": "2023-06-16T14:58:44.124Z"
   },
   {
    "duration": 224,
    "start_time": "2023-06-16T14:58:44.496Z"
   },
   {
    "duration": 306,
    "start_time": "2023-06-16T14:58:44.722Z"
   },
   {
    "duration": 256,
    "start_time": "2023-06-16T14:58:45.030Z"
   },
   {
    "duration": 338,
    "start_time": "2023-06-16T14:58:45.289Z"
   },
   {
    "duration": 13,
    "start_time": "2023-06-16T14:58:45.629Z"
   },
   {
    "duration": 186,
    "start_time": "2023-06-16T14:58:45.644Z"
   },
   {
    "duration": 5,
    "start_time": "2023-06-16T14:59:14.666Z"
   },
   {
    "duration": 5,
    "start_time": "2023-06-16T14:59:47.853Z"
   },
   {
    "duration": 147,
    "start_time": "2023-06-16T15:01:45.689Z"
   },
   {
    "duration": 154,
    "start_time": "2023-06-16T15:02:07.999Z"
   },
   {
    "duration": 250,
    "start_time": "2023-06-16T15:02:24.069Z"
   },
   {
    "duration": 190,
    "start_time": "2023-06-16T15:03:20.946Z"
   },
   {
    "duration": 166,
    "start_time": "2023-06-16T15:03:29.602Z"
   },
   {
    "duration": 157,
    "start_time": "2023-06-16T15:03:37.052Z"
   },
   {
    "duration": 165,
    "start_time": "2023-06-16T15:04:09.733Z"
   },
   {
    "duration": 171,
    "start_time": "2023-06-16T15:04:21.201Z"
   },
   {
    "duration": 145,
    "start_time": "2023-06-16T15:05:40.037Z"
   },
   {
    "duration": 197,
    "start_time": "2023-06-16T15:05:46.237Z"
   },
   {
    "duration": 170,
    "start_time": "2023-06-16T15:05:50.437Z"
   },
   {
    "duration": 175,
    "start_time": "2023-06-16T15:05:56.541Z"
   },
   {
    "duration": 142,
    "start_time": "2023-06-16T15:06:10.828Z"
   },
   {
    "duration": 5,
    "start_time": "2023-06-16T15:07:29.698Z"
   },
   {
    "duration": 216,
    "start_time": "2023-06-16T15:11:27.301Z"
   },
   {
    "duration": 14,
    "start_time": "2023-06-16T15:12:35.927Z"
   },
   {
    "duration": 122,
    "start_time": "2023-06-16T15:12:54.393Z"
   },
   {
    "duration": 90,
    "start_time": "2023-06-16T15:13:22.221Z"
   },
   {
    "duration": 232,
    "start_time": "2023-06-16T15:14:32.027Z"
   },
   {
    "duration": 148,
    "start_time": "2023-06-16T15:15:16.240Z"
   },
   {
    "duration": 163,
    "start_time": "2023-06-16T15:15:30.021Z"
   },
   {
    "duration": 107,
    "start_time": "2023-06-16T15:16:30.059Z"
   },
   {
    "duration": 10,
    "start_time": "2023-06-16T15:16:34.993Z"
   },
   {
    "duration": 13,
    "start_time": "2023-06-16T15:16:38.752Z"
   },
   {
    "duration": 12,
    "start_time": "2023-06-16T15:20:25.020Z"
   },
   {
    "duration": 10,
    "start_time": "2023-06-16T15:20:59.435Z"
   },
   {
    "duration": 12,
    "start_time": "2023-06-16T15:21:17.890Z"
   },
   {
    "duration": 12,
    "start_time": "2023-06-16T15:21:47.820Z"
   },
   {
    "duration": 70,
    "start_time": "2023-06-16T15:22:09.694Z"
   },
   {
    "duration": 103,
    "start_time": "2023-06-16T15:22:42.758Z"
   },
   {
    "duration": 204,
    "start_time": "2023-06-16T15:23:21.918Z"
   },
   {
    "duration": 332,
    "start_time": "2023-06-16T15:23:39.751Z"
   },
   {
    "duration": 334,
    "start_time": "2023-06-16T15:23:50.296Z"
   },
   {
    "duration": 425,
    "start_time": "2023-06-16T15:23:56.456Z"
   },
   {
    "duration": 375,
    "start_time": "2023-06-16T15:24:20.532Z"
   },
   {
    "duration": 373,
    "start_time": "2023-06-16T15:24:58.457Z"
   },
   {
    "duration": 359,
    "start_time": "2023-06-16T15:25:47.237Z"
   },
   {
    "duration": 10,
    "start_time": "2023-06-16T15:27:46.557Z"
   },
   {
    "duration": 9,
    "start_time": "2023-06-16T15:27:51.470Z"
   },
   {
    "duration": 9,
    "start_time": "2023-06-16T15:28:06.108Z"
   },
   {
    "duration": 8,
    "start_time": "2023-06-16T15:28:25.407Z"
   },
   {
    "duration": 9,
    "start_time": "2023-06-16T15:28:47.817Z"
   },
   {
    "duration": 13,
    "start_time": "2023-06-16T15:28:52.398Z"
   },
   {
    "duration": 17,
    "start_time": "2023-06-16T15:29:03.771Z"
   },
   {
    "duration": 14,
    "start_time": "2023-06-16T15:31:08.905Z"
   },
   {
    "duration": 9,
    "start_time": "2023-06-16T15:31:12.157Z"
   },
   {
    "duration": 6,
    "start_time": "2023-06-16T15:31:29.234Z"
   },
   {
    "duration": 21,
    "start_time": "2023-06-16T15:32:58.676Z"
   },
   {
    "duration": 1542,
    "start_time": "2023-06-16T15:33:48.693Z"
   },
   {
    "duration": 9,
    "start_time": "2023-06-16T15:34:04.793Z"
   },
   {
    "duration": 12,
    "start_time": "2023-06-16T15:34:08.989Z"
   },
   {
    "duration": 12,
    "start_time": "2023-06-16T15:34:27.221Z"
   },
   {
    "duration": 128,
    "start_time": "2023-06-16T15:34:59.932Z"
   },
   {
    "duration": 154,
    "start_time": "2023-06-16T15:35:13.407Z"
   },
   {
    "duration": 11,
    "start_time": "2023-06-16T15:35:32.099Z"
   },
   {
    "duration": 12,
    "start_time": "2023-06-16T15:36:30.345Z"
   },
   {
    "duration": 17,
    "start_time": "2023-06-16T15:37:00.068Z"
   },
   {
    "duration": 17,
    "start_time": "2023-06-16T15:37:15.614Z"
   },
   {
    "duration": 16,
    "start_time": "2023-06-16T15:37:20.449Z"
   },
   {
    "duration": 34,
    "start_time": "2023-06-16T15:37:47.315Z"
   },
   {
    "duration": 29,
    "start_time": "2023-06-16T15:37:54.744Z"
   },
   {
    "duration": 13,
    "start_time": "2023-06-16T15:38:25.609Z"
   },
   {
    "duration": 10,
    "start_time": "2023-06-16T15:39:59.266Z"
   },
   {
    "duration": 37,
    "start_time": "2023-06-16T15:40:07.053Z"
   },
   {
    "duration": 6,
    "start_time": "2023-06-16T15:40:07.613Z"
   },
   {
    "duration": 1273,
    "start_time": "2023-06-16T15:40:53.345Z"
   },
   {
    "duration": 85,
    "start_time": "2023-06-16T15:40:54.620Z"
   },
   {
    "duration": 3,
    "start_time": "2023-06-16T15:40:54.707Z"
   },
   {
    "duration": 44,
    "start_time": "2023-06-16T15:40:54.711Z"
   },
   {
    "duration": 30,
    "start_time": "2023-06-16T15:40:54.757Z"
   },
   {
    "duration": 20,
    "start_time": "2023-06-16T15:40:54.789Z"
   },
   {
    "duration": 6,
    "start_time": "2023-06-16T15:40:54.811Z"
   },
   {
    "duration": 7,
    "start_time": "2023-06-16T15:40:54.819Z"
   },
   {
    "duration": 8,
    "start_time": "2023-06-16T15:40:54.828Z"
   },
   {
    "duration": 19,
    "start_time": "2023-06-16T15:40:54.837Z"
   },
   {
    "duration": 30,
    "start_time": "2023-06-16T15:40:54.858Z"
   },
   {
    "duration": 19,
    "start_time": "2023-06-16T15:40:54.891Z"
   },
   {
    "duration": 7,
    "start_time": "2023-06-16T15:40:54.911Z"
   },
   {
    "duration": 321,
    "start_time": "2023-06-16T15:40:54.921Z"
   },
   {
    "duration": 340,
    "start_time": "2023-06-16T15:40:55.244Z"
   },
   {
    "duration": 228,
    "start_time": "2023-06-16T15:40:55.592Z"
   },
   {
    "duration": 313,
    "start_time": "2023-06-16T15:40:55.822Z"
   },
   {
    "duration": 296,
    "start_time": "2023-06-16T15:40:56.138Z"
   },
   {
    "duration": 419,
    "start_time": "2023-06-16T15:40:56.436Z"
   },
   {
    "duration": 21,
    "start_time": "2023-06-16T15:40:56.857Z"
   },
   {
    "duration": 174,
    "start_time": "2023-06-16T15:40:56.883Z"
   },
   {
    "duration": 6,
    "start_time": "2023-06-16T15:40:57.059Z"
   },
   {
    "duration": 190,
    "start_time": "2023-06-16T15:40:57.077Z"
   },
   {
    "duration": 174,
    "start_time": "2023-06-16T15:40:57.269Z"
   },
   {
    "duration": 5,
    "start_time": "2023-06-16T15:40:57.445Z"
   },
   {
    "duration": 456,
    "start_time": "2023-06-16T15:40:57.452Z"
   },
   {
    "duration": 9,
    "start_time": "2023-06-16T15:40:57.910Z"
   },
   {
    "duration": 9,
    "start_time": "2023-06-16T15:40:57.921Z"
   },
   {
    "duration": 20,
    "start_time": "2023-06-16T15:40:57.932Z"
   },
   {
    "duration": 28,
    "start_time": "2023-06-16T15:40:57.954Z"
   },
   {
    "duration": 75,
    "start_time": "2023-06-16T15:40:57.985Z"
   },
   {
    "duration": 0,
    "start_time": "2023-06-16T15:40:58.062Z"
   },
   {
    "duration": 0,
    "start_time": "2023-06-16T15:40:58.063Z"
   },
   {
    "duration": 0,
    "start_time": "2023-06-16T15:40:58.064Z"
   },
   {
    "duration": 31,
    "start_time": "2023-06-16T15:41:11.779Z"
   },
   {
    "duration": 5,
    "start_time": "2023-06-16T15:41:12.697Z"
   },
   {
    "duration": 13,
    "start_time": "2023-06-16T15:41:13.597Z"
   },
   {
    "duration": 28,
    "start_time": "2023-06-16T15:44:51.142Z"
   },
   {
    "duration": 141,
    "start_time": "2023-06-16T15:46:24.346Z"
   },
   {
    "duration": 35,
    "start_time": "2023-06-16T15:46:34.463Z"
   },
   {
    "duration": 11,
    "start_time": "2023-06-16T15:48:12.997Z"
   },
   {
    "duration": 45,
    "start_time": "2023-06-16T15:48:19.144Z"
   },
   {
    "duration": 29,
    "start_time": "2023-06-16T15:49:11.791Z"
   },
   {
    "duration": 36,
    "start_time": "2023-06-16T15:49:17.651Z"
   },
   {
    "duration": 40,
    "start_time": "2023-06-16T15:49:29.451Z"
   },
   {
    "duration": 30,
    "start_time": "2023-06-16T15:49:40.741Z"
   },
   {
    "duration": 68,
    "start_time": "2023-06-16T15:49:49.102Z"
   },
   {
    "duration": 37,
    "start_time": "2023-06-16T15:49:52.671Z"
   },
   {
    "duration": 10,
    "start_time": "2023-06-16T15:50:32.139Z"
   },
   {
    "duration": 1216,
    "start_time": "2023-06-16T15:50:39.885Z"
   },
   {
    "duration": 38,
    "start_time": "2023-06-16T15:51:11.454Z"
   },
   {
    "duration": 12,
    "start_time": "2023-06-16T15:51:33.189Z"
   },
   {
    "duration": 9,
    "start_time": "2023-06-16T15:54:29.455Z"
   },
   {
    "duration": 9,
    "start_time": "2023-06-16T15:54:41.708Z"
   },
   {
    "duration": 8,
    "start_time": "2023-06-16T15:54:44.993Z"
   },
   {
    "duration": 1223,
    "start_time": "2023-06-16T16:38:44.064Z"
   },
   {
    "duration": 82,
    "start_time": "2023-06-16T16:38:45.289Z"
   },
   {
    "duration": 4,
    "start_time": "2023-06-16T16:38:45.373Z"
   },
   {
    "duration": 31,
    "start_time": "2023-06-16T16:38:45.379Z"
   },
   {
    "duration": 23,
    "start_time": "2023-06-16T16:38:45.413Z"
   },
   {
    "duration": 29,
    "start_time": "2023-06-16T16:38:45.437Z"
   },
   {
    "duration": 10,
    "start_time": "2023-06-16T16:38:45.468Z"
   },
   {
    "duration": 13,
    "start_time": "2023-06-16T16:38:45.481Z"
   },
   {
    "duration": 17,
    "start_time": "2023-06-16T16:38:45.496Z"
   },
   {
    "duration": 26,
    "start_time": "2023-06-16T16:38:45.515Z"
   },
   {
    "duration": 37,
    "start_time": "2023-06-16T16:38:45.543Z"
   },
   {
    "duration": 15,
    "start_time": "2023-06-16T16:38:45.582Z"
   },
   {
    "duration": 17,
    "start_time": "2023-06-16T16:38:45.598Z"
   },
   {
    "duration": 342,
    "start_time": "2023-06-16T16:38:45.618Z"
   },
   {
    "duration": 336,
    "start_time": "2023-06-16T16:38:45.964Z"
   },
   {
    "duration": 263,
    "start_time": "2023-06-16T16:38:46.302Z"
   },
   {
    "duration": 317,
    "start_time": "2023-06-16T16:38:46.567Z"
   },
   {
    "duration": 224,
    "start_time": "2023-06-16T16:38:46.886Z"
   },
   {
    "duration": 361,
    "start_time": "2023-06-16T16:38:47.112Z"
   },
   {
    "duration": 24,
    "start_time": "2023-06-16T16:38:47.475Z"
   },
   {
    "duration": 235,
    "start_time": "2023-06-16T16:38:47.501Z"
   },
   {
    "duration": 8,
    "start_time": "2023-06-16T16:38:47.738Z"
   },
   {
    "duration": 214,
    "start_time": "2023-06-16T16:38:47.758Z"
   },
   {
    "duration": 183,
    "start_time": "2023-06-16T16:38:47.979Z"
   },
   {
    "duration": 11,
    "start_time": "2023-06-16T16:38:48.167Z"
   },
   {
    "duration": 443,
    "start_time": "2023-06-16T16:38:48.179Z"
   },
   {
    "duration": 9,
    "start_time": "2023-06-16T16:38:48.624Z"
   },
   {
    "duration": 47,
    "start_time": "2023-06-16T16:38:48.635Z"
   },
   {
    "duration": 15,
    "start_time": "2023-06-16T16:38:48.684Z"
   },
   {
    "duration": 28,
    "start_time": "2023-06-16T16:38:48.701Z"
   },
   {
    "duration": 11,
    "start_time": "2023-06-16T16:38:48.731Z"
   },
   {
    "duration": 21,
    "start_time": "2023-06-16T16:38:48.744Z"
   },
   {
    "duration": 1316,
    "start_time": "2023-06-16T16:53:09.073Z"
   },
   {
    "duration": 83,
    "start_time": "2023-06-16T16:53:10.391Z"
   },
   {
    "duration": 4,
    "start_time": "2023-06-16T16:53:10.476Z"
   },
   {
    "duration": 43,
    "start_time": "2023-06-16T16:53:10.482Z"
   },
   {
    "duration": 28,
    "start_time": "2023-06-16T16:53:10.527Z"
   },
   {
    "duration": 24,
    "start_time": "2023-06-16T16:53:10.557Z"
   },
   {
    "duration": 7,
    "start_time": "2023-06-16T16:53:10.583Z"
   },
   {
    "duration": 7,
    "start_time": "2023-06-16T16:53:10.592Z"
   },
   {
    "duration": 18,
    "start_time": "2023-06-16T16:53:10.602Z"
   },
   {
    "duration": 45,
    "start_time": "2023-06-16T16:53:10.624Z"
   },
   {
    "duration": 20,
    "start_time": "2023-06-16T16:53:10.672Z"
   },
   {
    "duration": 15,
    "start_time": "2023-06-16T16:53:10.695Z"
   },
   {
    "duration": 9,
    "start_time": "2023-06-16T16:53:10.713Z"
   },
   {
    "duration": 330,
    "start_time": "2023-06-16T16:53:10.754Z"
   },
   {
    "duration": 326,
    "start_time": "2023-06-16T16:53:11.085Z"
   },
   {
    "duration": 245,
    "start_time": "2023-06-16T16:53:11.413Z"
   },
   {
    "duration": 323,
    "start_time": "2023-06-16T16:53:11.660Z"
   },
   {
    "duration": 240,
    "start_time": "2023-06-16T16:53:11.985Z"
   },
   {
    "duration": 413,
    "start_time": "2023-06-16T16:53:12.227Z"
   },
   {
    "duration": 16,
    "start_time": "2023-06-16T16:53:12.642Z"
   },
   {
    "duration": 168,
    "start_time": "2023-06-16T16:53:12.660Z"
   },
   {
    "duration": 8,
    "start_time": "2023-06-16T16:53:12.830Z"
   },
   {
    "duration": 163,
    "start_time": "2023-06-16T16:53:12.840Z"
   },
   {
    "duration": 169,
    "start_time": "2023-06-16T16:53:13.005Z"
   },
   {
    "duration": 6,
    "start_time": "2023-06-16T16:53:13.177Z"
   },
   {
    "duration": 459,
    "start_time": "2023-06-16T16:53:13.185Z"
   },
   {
    "duration": 14,
    "start_time": "2023-06-16T16:53:13.645Z"
   },
   {
    "duration": 7,
    "start_time": "2023-06-16T16:53:13.663Z"
   },
   {
    "duration": 13,
    "start_time": "2023-06-16T16:53:13.672Z"
   },
   {
    "duration": 38,
    "start_time": "2023-06-16T16:53:13.687Z"
   },
   {
    "duration": 11,
    "start_time": "2023-06-16T16:53:13.754Z"
   },
   {
    "duration": 12,
    "start_time": "2023-06-16T16:53:13.767Z"
   },
   {
    "duration": 97,
    "start_time": "2023-06-16T16:57:19.315Z"
   },
   {
    "duration": 1094,
    "start_time": "2023-06-16T18:12:49.533Z"
   },
   {
    "duration": 78,
    "start_time": "2023-06-16T18:12:50.631Z"
   },
   {
    "duration": 3,
    "start_time": "2023-06-16T18:12:50.711Z"
   },
   {
    "duration": 35,
    "start_time": "2023-06-16T18:12:50.717Z"
   },
   {
    "duration": 23,
    "start_time": "2023-06-16T18:12:50.754Z"
   },
   {
    "duration": 20,
    "start_time": "2023-06-16T18:12:50.778Z"
   },
   {
    "duration": 5,
    "start_time": "2023-06-16T18:12:50.800Z"
   },
   {
    "duration": 11,
    "start_time": "2023-06-16T18:12:50.807Z"
   },
   {
    "duration": 9,
    "start_time": "2023-06-16T18:12:50.820Z"
   },
   {
    "duration": 15,
    "start_time": "2023-06-16T18:12:50.832Z"
   },
   {
    "duration": 36,
    "start_time": "2023-06-16T18:12:50.849Z"
   },
   {
    "duration": 12,
    "start_time": "2023-06-16T18:12:50.888Z"
   },
   {
    "duration": 13,
    "start_time": "2023-06-16T18:12:50.902Z"
   },
   {
    "duration": 323,
    "start_time": "2023-06-16T18:12:50.917Z"
   },
   {
    "duration": 340,
    "start_time": "2023-06-16T18:12:51.242Z"
   },
   {
    "duration": 269,
    "start_time": "2023-06-16T18:12:51.584Z"
   },
   {
    "duration": 351,
    "start_time": "2023-06-16T18:12:51.855Z"
   },
   {
    "duration": 242,
    "start_time": "2023-06-16T18:12:52.207Z"
   },
   {
    "duration": 370,
    "start_time": "2023-06-16T18:12:52.451Z"
   },
   {
    "duration": 12,
    "start_time": "2023-06-16T18:12:52.823Z"
   },
   {
    "duration": 180,
    "start_time": "2023-06-16T18:12:52.837Z"
   },
   {
    "duration": 6,
    "start_time": "2023-06-16T18:12:53.018Z"
   },
   {
    "duration": 205,
    "start_time": "2023-06-16T18:12:53.026Z"
   },
   {
    "duration": 160,
    "start_time": "2023-06-16T18:12:53.233Z"
   },
   {
    "duration": 4,
    "start_time": "2023-06-16T18:12:53.395Z"
   },
   {
    "duration": 487,
    "start_time": "2023-06-16T18:12:53.401Z"
   },
   {
    "duration": 18,
    "start_time": "2023-06-16T18:12:53.890Z"
   },
   {
    "duration": 21,
    "start_time": "2023-06-16T18:12:53.912Z"
   },
   {
    "duration": 16,
    "start_time": "2023-06-16T18:12:53.935Z"
   },
   {
    "duration": 44,
    "start_time": "2023-06-16T18:12:53.953Z"
   },
   {
    "duration": 14,
    "start_time": "2023-06-16T18:12:53.999Z"
   },
   {
    "duration": 14,
    "start_time": "2023-06-16T18:12:54.014Z"
   },
   {
    "duration": 11,
    "start_time": "2023-06-16T18:19:43.068Z"
   },
   {
    "duration": 59,
    "start_time": "2023-06-16T18:29:26.576Z"
   },
   {
    "duration": 4,
    "start_time": "2023-06-16T18:29:33.753Z"
   },
   {
    "duration": 5,
    "start_time": "2023-06-16T18:29:39.591Z"
   },
   {
    "duration": 5,
    "start_time": "2023-06-16T18:29:42.456Z"
   },
   {
    "duration": 1135,
    "start_time": "2023-06-16T18:45:28.096Z"
   },
   {
    "duration": 78,
    "start_time": "2023-06-16T18:45:29.233Z"
   },
   {
    "duration": 4,
    "start_time": "2023-06-16T18:45:29.313Z"
   },
   {
    "duration": 53,
    "start_time": "2023-06-16T18:45:29.319Z"
   },
   {
    "duration": 22,
    "start_time": "2023-06-16T18:45:29.373Z"
   },
   {
    "duration": 19,
    "start_time": "2023-06-16T18:45:29.397Z"
   },
   {
    "duration": 6,
    "start_time": "2023-06-16T18:45:29.417Z"
   },
   {
    "duration": 26,
    "start_time": "2023-06-16T18:45:29.424Z"
   },
   {
    "duration": 24,
    "start_time": "2023-06-16T18:45:29.451Z"
   },
   {
    "duration": 16,
    "start_time": "2023-06-16T18:45:29.478Z"
   },
   {
    "duration": 16,
    "start_time": "2023-06-16T18:45:29.496Z"
   },
   {
    "duration": 25,
    "start_time": "2023-06-16T18:45:29.514Z"
   },
   {
    "duration": 10,
    "start_time": "2023-06-16T18:45:29.541Z"
   },
   {
    "duration": 297,
    "start_time": "2023-06-16T18:45:29.553Z"
   },
   {
    "duration": 327,
    "start_time": "2023-06-16T18:45:29.852Z"
   },
   {
    "duration": 254,
    "start_time": "2023-06-16T18:45:30.182Z"
   },
   {
    "duration": 334,
    "start_time": "2023-06-16T18:45:30.438Z"
   },
   {
    "duration": 224,
    "start_time": "2023-06-16T18:45:30.774Z"
   },
   {
    "duration": 351,
    "start_time": "2023-06-16T18:45:31.000Z"
   },
   {
    "duration": 13,
    "start_time": "2023-06-16T18:45:31.353Z"
   },
   {
    "duration": 359,
    "start_time": "2023-06-16T18:45:31.375Z"
   },
   {
    "duration": 5,
    "start_time": "2023-06-16T18:45:31.736Z"
   },
   {
    "duration": 185,
    "start_time": "2023-06-16T18:45:31.743Z"
   },
   {
    "duration": 150,
    "start_time": "2023-06-16T18:45:31.930Z"
   },
   {
    "duration": 6,
    "start_time": "2023-06-16T18:45:32.081Z"
   },
   {
    "duration": 435,
    "start_time": "2023-06-16T18:45:32.088Z"
   },
   {
    "duration": 9,
    "start_time": "2023-06-16T18:45:32.524Z"
   },
   {
    "duration": 26,
    "start_time": "2023-06-16T18:45:32.537Z"
   },
   {
    "duration": 131,
    "start_time": "2023-06-16T18:45:32.565Z"
   },
   {
    "duration": 42,
    "start_time": "2023-06-16T18:45:32.698Z"
   },
   {
    "duration": 9,
    "start_time": "2023-06-16T18:45:32.742Z"
   },
   {
    "duration": 30,
    "start_time": "2023-06-16T18:45:32.753Z"
   },
   {
    "duration": 1554,
    "start_time": "2023-06-17T06:49:36.156Z"
   },
   {
    "duration": 235,
    "start_time": "2023-06-17T06:49:37.713Z"
   },
   {
    "duration": 4,
    "start_time": "2023-06-17T06:49:37.950Z"
   },
   {
    "duration": 37,
    "start_time": "2023-06-17T06:49:37.956Z"
   },
   {
    "duration": 25,
    "start_time": "2023-06-17T06:49:37.995Z"
   },
   {
    "duration": 52,
    "start_time": "2023-06-17T06:49:38.023Z"
   },
   {
    "duration": 34,
    "start_time": "2023-06-17T06:49:38.078Z"
   },
   {
    "duration": 15,
    "start_time": "2023-06-17T06:49:38.114Z"
   },
   {
    "duration": 16,
    "start_time": "2023-06-17T06:49:38.131Z"
   },
   {
    "duration": 23,
    "start_time": "2023-06-17T06:49:38.151Z"
   },
   {
    "duration": 14,
    "start_time": "2023-06-17T06:49:38.176Z"
   },
   {
    "duration": 25,
    "start_time": "2023-06-17T06:49:38.193Z"
   },
   {
    "duration": 7,
    "start_time": "2023-06-17T06:49:38.220Z"
   },
   {
    "duration": 351,
    "start_time": "2023-06-17T06:49:38.229Z"
   },
   {
    "duration": 342,
    "start_time": "2023-06-17T06:49:38.581Z"
   },
   {
    "duration": 240,
    "start_time": "2023-06-17T06:49:38.925Z"
   },
   {
    "duration": 396,
    "start_time": "2023-06-17T06:49:39.167Z"
   },
   {
    "duration": 320,
    "start_time": "2023-06-17T06:49:39.567Z"
   },
   {
    "duration": 446,
    "start_time": "2023-06-17T06:49:39.889Z"
   },
   {
    "duration": 18,
    "start_time": "2023-06-17T06:49:40.337Z"
   },
   {
    "duration": 238,
    "start_time": "2023-06-17T06:49:40.358Z"
   },
   {
    "duration": 7,
    "start_time": "2023-06-17T06:49:40.598Z"
   },
   {
    "duration": 213,
    "start_time": "2023-06-17T06:49:40.607Z"
   },
   {
    "duration": 234,
    "start_time": "2023-06-17T06:49:40.823Z"
   },
   {
    "duration": 17,
    "start_time": "2023-06-17T06:49:41.060Z"
   },
   {
    "duration": 723,
    "start_time": "2023-06-17T06:49:41.079Z"
   },
   {
    "duration": 22,
    "start_time": "2023-06-17T06:49:41.810Z"
   },
   {
    "duration": 18,
    "start_time": "2023-06-17T06:49:41.840Z"
   },
   {
    "duration": 23,
    "start_time": "2023-06-17T06:49:41.864Z"
   },
   {
    "duration": 78,
    "start_time": "2023-06-17T06:49:41.889Z"
   },
   {
    "duration": 67,
    "start_time": "2023-06-17T06:49:41.969Z"
   },
   {
    "duration": 137,
    "start_time": "2023-06-17T06:49:42.038Z"
   },
   {
    "duration": 1214,
    "start_time": "2023-06-17T07:22:59.103Z"
   },
   {
    "duration": 97,
    "start_time": "2023-06-17T07:23:00.320Z"
   },
   {
    "duration": 4,
    "start_time": "2023-06-17T07:23:00.419Z"
   },
   {
    "duration": 116,
    "start_time": "2023-06-17T07:23:00.425Z"
   },
   {
    "duration": 52,
    "start_time": "2023-06-17T07:23:00.543Z"
   },
   {
    "duration": 53,
    "start_time": "2023-06-17T07:23:00.597Z"
   },
   {
    "duration": 39,
    "start_time": "2023-06-17T07:23:00.651Z"
   },
   {
    "duration": 50,
    "start_time": "2023-06-17T07:23:00.692Z"
   },
   {
    "duration": 34,
    "start_time": "2023-06-17T07:23:00.744Z"
   },
   {
    "duration": 54,
    "start_time": "2023-06-17T07:23:00.783Z"
   },
   {
    "duration": 73,
    "start_time": "2023-06-17T07:23:00.839Z"
   },
   {
    "duration": 129,
    "start_time": "2023-06-17T07:23:00.913Z"
   },
   {
    "duration": 75,
    "start_time": "2023-06-17T07:23:01.044Z"
   },
   {
    "duration": 343,
    "start_time": "2023-06-17T07:23:01.122Z"
   },
   {
    "duration": 374,
    "start_time": "2023-06-17T07:23:01.467Z"
   },
   {
    "duration": 246,
    "start_time": "2023-06-17T07:23:01.844Z"
   },
   {
    "duration": 331,
    "start_time": "2023-06-17T07:23:02.092Z"
   },
   {
    "duration": 257,
    "start_time": "2023-06-17T07:23:02.425Z"
   },
   {
    "duration": 351,
    "start_time": "2023-06-17T07:23:02.689Z"
   },
   {
    "duration": 13,
    "start_time": "2023-06-17T07:23:03.042Z"
   },
   {
    "duration": 190,
    "start_time": "2023-06-17T07:23:03.057Z"
   },
   {
    "duration": 5,
    "start_time": "2023-06-17T07:23:03.249Z"
   },
   {
    "duration": 174,
    "start_time": "2023-06-17T07:23:03.256Z"
   },
   {
    "duration": 174,
    "start_time": "2023-06-17T07:23:03.432Z"
   },
   {
    "duration": 5,
    "start_time": "2023-06-17T07:23:03.608Z"
   },
   {
    "duration": 444,
    "start_time": "2023-06-17T07:23:03.615Z"
   },
   {
    "duration": 27,
    "start_time": "2023-06-17T07:23:04.061Z"
   },
   {
    "duration": 15,
    "start_time": "2023-06-17T07:23:04.100Z"
   },
   {
    "duration": 45,
    "start_time": "2023-06-17T07:23:04.117Z"
   },
   {
    "duration": 73,
    "start_time": "2023-06-17T07:23:04.163Z"
   },
   {
    "duration": 8,
    "start_time": "2023-06-17T07:23:04.238Z"
   },
   {
    "duration": 12,
    "start_time": "2023-06-17T07:23:04.248Z"
   },
   {
    "duration": 1339,
    "start_time": "2023-06-17T07:32:32.606Z"
   },
   {
    "duration": 97,
    "start_time": "2023-06-17T07:32:33.948Z"
   },
   {
    "duration": 4,
    "start_time": "2023-06-17T07:32:34.046Z"
   },
   {
    "duration": 47,
    "start_time": "2023-06-17T07:32:34.052Z"
   },
   {
    "duration": 33,
    "start_time": "2023-06-17T07:32:34.101Z"
   },
   {
    "duration": 20,
    "start_time": "2023-06-17T07:32:34.136Z"
   },
   {
    "duration": 33,
    "start_time": "2023-06-17T07:32:34.157Z"
   },
   {
    "duration": 16,
    "start_time": "2023-06-17T07:32:34.199Z"
   },
   {
    "duration": 8,
    "start_time": "2023-06-17T07:32:34.216Z"
   },
   {
    "duration": 18,
    "start_time": "2023-06-17T07:32:34.225Z"
   },
   {
    "duration": 11,
    "start_time": "2023-06-17T07:32:34.244Z"
   },
   {
    "duration": 17,
    "start_time": "2023-06-17T07:32:34.256Z"
   },
   {
    "duration": 45,
    "start_time": "2023-06-17T07:32:34.274Z"
   },
   {
    "duration": 308,
    "start_time": "2023-06-17T07:32:34.322Z"
   },
   {
    "duration": 366,
    "start_time": "2023-06-17T07:32:34.631Z"
   },
   {
    "duration": 249,
    "start_time": "2023-06-17T07:32:35.001Z"
   },
   {
    "duration": 355,
    "start_time": "2023-06-17T07:32:35.251Z"
   },
   {
    "duration": 238,
    "start_time": "2023-06-17T07:32:35.608Z"
   },
   {
    "duration": 402,
    "start_time": "2023-06-17T07:32:35.848Z"
   },
   {
    "duration": 26,
    "start_time": "2023-06-17T07:32:36.252Z"
   },
   {
    "duration": 246,
    "start_time": "2023-06-17T07:32:36.279Z"
   },
   {
    "duration": 7,
    "start_time": "2023-06-17T07:32:36.528Z"
   },
   {
    "duration": 186,
    "start_time": "2023-06-17T07:32:36.537Z"
   },
   {
    "duration": 185,
    "start_time": "2023-06-17T07:32:36.725Z"
   },
   {
    "duration": 6,
    "start_time": "2023-06-17T07:32:36.912Z"
   },
   {
    "duration": 458,
    "start_time": "2023-06-17T07:32:36.920Z"
   },
   {
    "duration": 13,
    "start_time": "2023-06-17T07:32:37.391Z"
   },
   {
    "duration": 20,
    "start_time": "2023-06-17T07:32:37.405Z"
   },
   {
    "duration": 12,
    "start_time": "2023-06-17T07:32:37.427Z"
   },
   {
    "duration": 43,
    "start_time": "2023-06-17T07:32:37.441Z"
   },
   {
    "duration": 12,
    "start_time": "2023-06-17T07:32:37.493Z"
   },
   {
    "duration": 37,
    "start_time": "2023-06-17T07:32:37.507Z"
   },
   {
    "duration": 46,
    "start_time": "2023-06-17T14:04:01.846Z"
   },
   {
    "duration": 1140,
    "start_time": "2023-08-10T03:59:28.337Z"
   },
   {
    "duration": 192,
    "start_time": "2023-08-10T03:59:29.479Z"
   },
   {
    "duration": 4,
    "start_time": "2023-08-10T03:59:29.672Z"
   },
   {
    "duration": 36,
    "start_time": "2023-08-10T03:59:29.678Z"
   },
   {
    "duration": 21,
    "start_time": "2023-08-10T03:59:29.716Z"
   },
   {
    "duration": 20,
    "start_time": "2023-08-10T03:59:29.738Z"
   },
   {
    "duration": 6,
    "start_time": "2023-08-10T03:59:29.759Z"
   },
   {
    "duration": 7,
    "start_time": "2023-08-10T03:59:29.795Z"
   },
   {
    "duration": 20,
    "start_time": "2023-08-10T03:59:29.804Z"
   },
   {
    "duration": 14,
    "start_time": "2023-08-10T03:59:29.828Z"
   },
   {
    "duration": 11,
    "start_time": "2023-08-10T03:59:29.843Z"
   },
   {
    "duration": 17,
    "start_time": "2023-08-10T03:59:29.855Z"
   },
   {
    "duration": 6,
    "start_time": "2023-08-10T03:59:29.874Z"
   },
   {
    "duration": 309,
    "start_time": "2023-08-10T03:59:29.881Z"
   },
   {
    "duration": 382,
    "start_time": "2023-08-10T03:59:30.191Z"
   },
   {
    "duration": 262,
    "start_time": "2023-08-10T03:59:30.574Z"
   },
   {
    "duration": 320,
    "start_time": "2023-08-10T03:59:30.838Z"
   },
   {
    "duration": 275,
    "start_time": "2023-08-10T03:59:31.160Z"
   },
   {
    "duration": 350,
    "start_time": "2023-08-10T03:59:31.437Z"
   },
   {
    "duration": 19,
    "start_time": "2023-08-10T03:59:31.788Z"
   },
   {
    "duration": 227,
    "start_time": "2023-08-10T03:59:31.809Z"
   },
   {
    "duration": 5,
    "start_time": "2023-08-10T03:59:32.038Z"
   },
   {
    "duration": 216,
    "start_time": "2023-08-10T03:59:32.045Z"
   },
   {
    "duration": 206,
    "start_time": "2023-08-10T03:59:32.263Z"
   },
   {
    "duration": 7,
    "start_time": "2023-08-10T03:59:32.471Z"
   },
   {
    "duration": 477,
    "start_time": "2023-08-10T03:59:32.495Z"
   },
   {
    "duration": 8,
    "start_time": "2023-08-10T03:59:32.974Z"
   },
   {
    "duration": 15,
    "start_time": "2023-08-10T03:59:32.998Z"
   },
   {
    "duration": 38,
    "start_time": "2023-08-10T03:59:33.015Z"
   },
   {
    "duration": 31,
    "start_time": "2023-08-10T03:59:33.055Z"
   },
   {
    "duration": 13,
    "start_time": "2023-08-10T03:59:33.088Z"
   },
   {
    "duration": 29,
    "start_time": "2023-08-10T03:59:33.103Z"
   },
   {
    "duration": 1261,
    "start_time": "2023-08-10T04:00:03.795Z"
   },
   {
    "duration": 79,
    "start_time": "2023-08-10T04:00:05.059Z"
   },
   {
    "duration": 3,
    "start_time": "2023-08-10T04:00:05.140Z"
   },
   {
    "duration": 37,
    "start_time": "2023-08-10T04:00:05.145Z"
   },
   {
    "duration": 31,
    "start_time": "2023-08-10T04:00:05.184Z"
   },
   {
    "duration": 29,
    "start_time": "2023-08-10T04:00:05.217Z"
   },
   {
    "duration": 22,
    "start_time": "2023-08-10T04:00:05.248Z"
   },
   {
    "duration": 27,
    "start_time": "2023-08-10T04:00:05.272Z"
   },
   {
    "duration": 22,
    "start_time": "2023-08-10T04:00:05.302Z"
   },
   {
    "duration": 24,
    "start_time": "2023-08-10T04:00:05.326Z"
   },
   {
    "duration": 18,
    "start_time": "2023-08-10T04:00:05.352Z"
   },
   {
    "duration": 23,
    "start_time": "2023-08-10T04:00:05.372Z"
   },
   {
    "duration": 25,
    "start_time": "2023-08-10T04:00:05.398Z"
   },
   {
    "duration": 341,
    "start_time": "2023-08-10T04:00:05.426Z"
   },
   {
    "duration": 370,
    "start_time": "2023-08-10T04:00:05.769Z"
   },
   {
    "duration": 282,
    "start_time": "2023-08-10T04:00:06.141Z"
   },
   {
    "duration": 365,
    "start_time": "2023-08-10T04:00:06.425Z"
   },
   {
    "duration": 295,
    "start_time": "2023-08-10T04:00:06.795Z"
   },
   {
    "duration": 391,
    "start_time": "2023-08-10T04:00:07.095Z"
   },
   {
    "duration": 22,
    "start_time": "2023-08-10T04:00:07.487Z"
   },
   {
    "duration": 212,
    "start_time": "2023-08-10T04:00:07.512Z"
   },
   {
    "duration": 6,
    "start_time": "2023-08-10T04:00:07.726Z"
   },
   {
    "duration": 211,
    "start_time": "2023-08-10T04:00:07.733Z"
   },
   {
    "duration": 183,
    "start_time": "2023-08-10T04:00:07.946Z"
   },
   {
    "duration": 6,
    "start_time": "2023-08-10T04:00:08.131Z"
   },
   {
    "duration": 489,
    "start_time": "2023-08-10T04:00:08.139Z"
   },
   {
    "duration": 9,
    "start_time": "2023-08-10T04:00:08.630Z"
   },
   {
    "duration": 8,
    "start_time": "2023-08-10T04:00:08.640Z"
   },
   {
    "duration": 12,
    "start_time": "2023-08-10T04:00:08.650Z"
   },
   {
    "duration": 56,
    "start_time": "2023-08-10T04:00:08.664Z"
   },
   {
    "duration": 10,
    "start_time": "2023-08-10T04:00:08.721Z"
   },
   {
    "duration": 16,
    "start_time": "2023-08-10T04:00:08.732Z"
   }
  ],
  "kernelspec": {
   "display_name": "Python 3 (ipykernel)",
   "language": "python",
   "name": "python3"
  },
  "language_info": {
   "codemirror_mode": {
    "name": "ipython",
    "version": 3
   },
   "file_extension": ".py",
   "mimetype": "text/x-python",
   "name": "python",
   "nbconvert_exporter": "python",
   "pygments_lexer": "ipython3",
   "version": "3.10.9"
  },
  "toc": {
   "base_numbering": 1,
   "nav_menu": {},
   "number_sections": true,
   "sideBar": true,
   "skip_h1_title": true,
   "title_cell": "Table of Contents",
   "title_sidebar": "Contents",
   "toc_cell": false,
   "toc_position": {},
   "toc_section_display": true,
   "toc_window_display": false
  }
 },
 "nbformat": 4,
 "nbformat_minor": 2
}
